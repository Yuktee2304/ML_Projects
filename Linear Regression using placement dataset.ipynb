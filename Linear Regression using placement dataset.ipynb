{
 "cells": [
  {
   "cell_type": "code",
   "execution_count": 1,
   "id": "de21c49b",
   "metadata": {},
   "outputs": [],
   "source": [
    "import numpy as np\n",
    "import pandas as pd\n",
    "\n",
    "import matplotlib.pyplot as plt\n",
    "\n",
    "from sklearn.model_selection import train_test_split\n",
    "from sklearn.linear_model import LinearRegression\n",
    "from sklearn.metrics import accuracy_score"
   ]
  },
  {
   "cell_type": "code",
   "execution_count": 2,
   "id": "30bb130a",
   "metadata": {},
   "outputs": [],
   "source": [
    "df=pd.read_csv('C:/Users/yukte/OneDrive/Desktop/placement (1).csv')"
   ]
  },
  {
   "cell_type": "code",
   "execution_count": 3,
   "id": "05b68c43",
   "metadata": {},
   "outputs": [
    {
     "data": {
      "text/html": [
       "<div>\n",
       "<style scoped>\n",
       "    .dataframe tbody tr th:only-of-type {\n",
       "        vertical-align: middle;\n",
       "    }\n",
       "\n",
       "    .dataframe tbody tr th {\n",
       "        vertical-align: top;\n",
       "    }\n",
       "\n",
       "    .dataframe thead th {\n",
       "        text-align: right;\n",
       "    }\n",
       "</style>\n",
       "<table border=\"1\" class=\"dataframe\">\n",
       "  <thead>\n",
       "    <tr style=\"text-align: right;\">\n",
       "      <th></th>\n",
       "      <th>cgpa</th>\n",
       "      <th>package</th>\n",
       "    </tr>\n",
       "  </thead>\n",
       "  <tbody>\n",
       "    <tr>\n",
       "      <th>0</th>\n",
       "      <td>6.89</td>\n",
       "      <td>3.26</td>\n",
       "    </tr>\n",
       "    <tr>\n",
       "      <th>1</th>\n",
       "      <td>5.12</td>\n",
       "      <td>1.98</td>\n",
       "    </tr>\n",
       "    <tr>\n",
       "      <th>2</th>\n",
       "      <td>7.82</td>\n",
       "      <td>3.25</td>\n",
       "    </tr>\n",
       "    <tr>\n",
       "      <th>3</th>\n",
       "      <td>7.42</td>\n",
       "      <td>3.67</td>\n",
       "    </tr>\n",
       "    <tr>\n",
       "      <th>4</th>\n",
       "      <td>6.94</td>\n",
       "      <td>3.57</td>\n",
       "    </tr>\n",
       "    <tr>\n",
       "      <th>...</th>\n",
       "      <td>...</td>\n",
       "      <td>...</td>\n",
       "    </tr>\n",
       "    <tr>\n",
       "      <th>195</th>\n",
       "      <td>6.93</td>\n",
       "      <td>2.46</td>\n",
       "    </tr>\n",
       "    <tr>\n",
       "      <th>196</th>\n",
       "      <td>5.89</td>\n",
       "      <td>2.57</td>\n",
       "    </tr>\n",
       "    <tr>\n",
       "      <th>197</th>\n",
       "      <td>7.21</td>\n",
       "      <td>3.24</td>\n",
       "    </tr>\n",
       "    <tr>\n",
       "      <th>198</th>\n",
       "      <td>7.63</td>\n",
       "      <td>3.96</td>\n",
       "    </tr>\n",
       "    <tr>\n",
       "      <th>199</th>\n",
       "      <td>6.22</td>\n",
       "      <td>2.33</td>\n",
       "    </tr>\n",
       "  </tbody>\n",
       "</table>\n",
       "<p>200 rows × 2 columns</p>\n",
       "</div>"
      ],
      "text/plain": [
       "     cgpa  package\n",
       "0    6.89     3.26\n",
       "1    5.12     1.98\n",
       "2    7.82     3.25\n",
       "3    7.42     3.67\n",
       "4    6.94     3.57\n",
       "..    ...      ...\n",
       "195  6.93     2.46\n",
       "196  5.89     2.57\n",
       "197  7.21     3.24\n",
       "198  7.63     3.96\n",
       "199  6.22     2.33\n",
       "\n",
       "[200 rows x 2 columns]"
      ]
     },
     "execution_count": 3,
     "metadata": {},
     "output_type": "execute_result"
    }
   ],
   "source": [
    "df"
   ]
  },
  {
   "cell_type": "code",
   "execution_count": 4,
   "id": "3e523cf5",
   "metadata": {},
   "outputs": [
    {
     "data": {
      "text/html": [
       "<div>\n",
       "<style scoped>\n",
       "    .dataframe tbody tr th:only-of-type {\n",
       "        vertical-align: middle;\n",
       "    }\n",
       "\n",
       "    .dataframe tbody tr th {\n",
       "        vertical-align: top;\n",
       "    }\n",
       "\n",
       "    .dataframe thead th {\n",
       "        text-align: right;\n",
       "    }\n",
       "</style>\n",
       "<table border=\"1\" class=\"dataframe\">\n",
       "  <thead>\n",
       "    <tr style=\"text-align: right;\">\n",
       "      <th></th>\n",
       "      <th>cgpa</th>\n",
       "      <th>package</th>\n",
       "    </tr>\n",
       "  </thead>\n",
       "  <tbody>\n",
       "    <tr>\n",
       "      <th>0</th>\n",
       "      <td>6.89</td>\n",
       "      <td>3.26</td>\n",
       "    </tr>\n",
       "    <tr>\n",
       "      <th>1</th>\n",
       "      <td>5.12</td>\n",
       "      <td>1.98</td>\n",
       "    </tr>\n",
       "    <tr>\n",
       "      <th>2</th>\n",
       "      <td>7.82</td>\n",
       "      <td>3.25</td>\n",
       "    </tr>\n",
       "    <tr>\n",
       "      <th>3</th>\n",
       "      <td>7.42</td>\n",
       "      <td>3.67</td>\n",
       "    </tr>\n",
       "    <tr>\n",
       "      <th>4</th>\n",
       "      <td>6.94</td>\n",
       "      <td>3.57</td>\n",
       "    </tr>\n",
       "  </tbody>\n",
       "</table>\n",
       "</div>"
      ],
      "text/plain": [
       "   cgpa  package\n",
       "0  6.89     3.26\n",
       "1  5.12     1.98\n",
       "2  7.82     3.25\n",
       "3  7.42     3.67\n",
       "4  6.94     3.57"
      ]
     },
     "execution_count": 4,
     "metadata": {},
     "output_type": "execute_result"
    }
   ],
   "source": [
    "df.head()"
   ]
  },
  {
   "cell_type": "code",
   "execution_count": 5,
   "id": "88921c47",
   "metadata": {},
   "outputs": [
    {
     "data": {
      "text/html": [
       "<div>\n",
       "<style scoped>\n",
       "    .dataframe tbody tr th:only-of-type {\n",
       "        vertical-align: middle;\n",
       "    }\n",
       "\n",
       "    .dataframe tbody tr th {\n",
       "        vertical-align: top;\n",
       "    }\n",
       "\n",
       "    .dataframe thead th {\n",
       "        text-align: right;\n",
       "    }\n",
       "</style>\n",
       "<table border=\"1\" class=\"dataframe\">\n",
       "  <thead>\n",
       "    <tr style=\"text-align: right;\">\n",
       "      <th></th>\n",
       "      <th>cgpa</th>\n",
       "      <th>package</th>\n",
       "    </tr>\n",
       "  </thead>\n",
       "  <tbody>\n",
       "    <tr>\n",
       "      <th>0</th>\n",
       "      <td>False</td>\n",
       "      <td>False</td>\n",
       "    </tr>\n",
       "    <tr>\n",
       "      <th>1</th>\n",
       "      <td>False</td>\n",
       "      <td>False</td>\n",
       "    </tr>\n",
       "    <tr>\n",
       "      <th>2</th>\n",
       "      <td>False</td>\n",
       "      <td>False</td>\n",
       "    </tr>\n",
       "    <tr>\n",
       "      <th>3</th>\n",
       "      <td>False</td>\n",
       "      <td>False</td>\n",
       "    </tr>\n",
       "    <tr>\n",
       "      <th>4</th>\n",
       "      <td>False</td>\n",
       "      <td>False</td>\n",
       "    </tr>\n",
       "    <tr>\n",
       "      <th>...</th>\n",
       "      <td>...</td>\n",
       "      <td>...</td>\n",
       "    </tr>\n",
       "    <tr>\n",
       "      <th>195</th>\n",
       "      <td>False</td>\n",
       "      <td>False</td>\n",
       "    </tr>\n",
       "    <tr>\n",
       "      <th>196</th>\n",
       "      <td>False</td>\n",
       "      <td>False</td>\n",
       "    </tr>\n",
       "    <tr>\n",
       "      <th>197</th>\n",
       "      <td>False</td>\n",
       "      <td>False</td>\n",
       "    </tr>\n",
       "    <tr>\n",
       "      <th>198</th>\n",
       "      <td>False</td>\n",
       "      <td>False</td>\n",
       "    </tr>\n",
       "    <tr>\n",
       "      <th>199</th>\n",
       "      <td>False</td>\n",
       "      <td>False</td>\n",
       "    </tr>\n",
       "  </tbody>\n",
       "</table>\n",
       "<p>200 rows × 2 columns</p>\n",
       "</div>"
      ],
      "text/plain": [
       "      cgpa  package\n",
       "0    False    False\n",
       "1    False    False\n",
       "2    False    False\n",
       "3    False    False\n",
       "4    False    False\n",
       "..     ...      ...\n",
       "195  False    False\n",
       "196  False    False\n",
       "197  False    False\n",
       "198  False    False\n",
       "199  False    False\n",
       "\n",
       "[200 rows x 2 columns]"
      ]
     },
     "execution_count": 5,
     "metadata": {},
     "output_type": "execute_result"
    }
   ],
   "source": [
    "df.isnull()"
   ]
  },
  {
   "cell_type": "code",
   "execution_count": 6,
   "id": "39029aed",
   "metadata": {},
   "outputs": [
    {
     "data": {
      "text/html": [
       "<div>\n",
       "<style scoped>\n",
       "    .dataframe tbody tr th:only-of-type {\n",
       "        vertical-align: middle;\n",
       "    }\n",
       "\n",
       "    .dataframe tbody tr th {\n",
       "        vertical-align: top;\n",
       "    }\n",
       "\n",
       "    .dataframe thead th {\n",
       "        text-align: right;\n",
       "    }\n",
       "</style>\n",
       "<table border=\"1\" class=\"dataframe\">\n",
       "  <thead>\n",
       "    <tr style=\"text-align: right;\">\n",
       "      <th></th>\n",
       "      <th>cgpa</th>\n",
       "      <th>package</th>\n",
       "    </tr>\n",
       "  </thead>\n",
       "  <tbody>\n",
       "    <tr>\n",
       "      <th>count</th>\n",
       "      <td>200.000000</td>\n",
       "      <td>200.000000</td>\n",
       "    </tr>\n",
       "    <tr>\n",
       "      <th>mean</th>\n",
       "      <td>6.990500</td>\n",
       "      <td>2.996050</td>\n",
       "    </tr>\n",
       "    <tr>\n",
       "      <th>std</th>\n",
       "      <td>1.069409</td>\n",
       "      <td>0.691644</td>\n",
       "    </tr>\n",
       "    <tr>\n",
       "      <th>min</th>\n",
       "      <td>4.260000</td>\n",
       "      <td>1.370000</td>\n",
       "    </tr>\n",
       "    <tr>\n",
       "      <th>25%</th>\n",
       "      <td>6.190000</td>\n",
       "      <td>2.487500</td>\n",
       "    </tr>\n",
       "    <tr>\n",
       "      <th>50%</th>\n",
       "      <td>6.965000</td>\n",
       "      <td>2.995000</td>\n",
       "    </tr>\n",
       "    <tr>\n",
       "      <th>75%</th>\n",
       "      <td>7.737500</td>\n",
       "      <td>3.492500</td>\n",
       "    </tr>\n",
       "    <tr>\n",
       "      <th>max</th>\n",
       "      <td>9.580000</td>\n",
       "      <td>4.620000</td>\n",
       "    </tr>\n",
       "  </tbody>\n",
       "</table>\n",
       "</div>"
      ],
      "text/plain": [
       "             cgpa     package\n",
       "count  200.000000  200.000000\n",
       "mean     6.990500    2.996050\n",
       "std      1.069409    0.691644\n",
       "min      4.260000    1.370000\n",
       "25%      6.190000    2.487500\n",
       "50%      6.965000    2.995000\n",
       "75%      7.737500    3.492500\n",
       "max      9.580000    4.620000"
      ]
     },
     "execution_count": 6,
     "metadata": {},
     "output_type": "execute_result"
    }
   ],
   "source": [
    "df.describe()"
   ]
  },
  {
   "cell_type": "code",
   "execution_count": 7,
   "id": "97681061",
   "metadata": {},
   "outputs": [
    {
     "data": {
      "text/plain": [
       "Text(0, 0.5, 'Package')"
      ]
     },
     "execution_count": 7,
     "metadata": {},
     "output_type": "execute_result"
    },
    {
     "data": {
      "image/png": "[encoded data removed]",
      "text/plain": [
       "<Figure size 640x480 with 1 Axes>"
      ]
     },
     "metadata": {},
     "output_type": "display_data"
    }
   ],
   "source": [
    "plt.scatter(df['cgpa'],df['package'])\n",
    "plt.xlabel('CGPA')\n",
    "plt.ylabel('Package')"
   ]
  },
  {
   "cell_type": "code",
   "execution_count": 8,
   "id": "f5866a3f",
   "metadata": {},
   "outputs": [],
   "source": [
    "x=df.iloc[:,0:1].values\n",
    "y=df.iloc[:,-1].values"
   ]
  },
  {
   "cell_type": "code",
   "execution_count": 9,
   "id": "40263781",
   "metadata": {},
   "outputs": [
    {
     "data": {
      "text/plain": [
       "array([[6.89],\n",
       "       [5.12],\n",
       "       [7.82],\n",
       "       [7.42],\n",
       "       [6.94],\n",
       "       [7.89],\n",
       "       [6.73],\n",
       "       [6.75],\n",
       "       [6.09],\n",
       "       [8.31],\n",
       "       [5.32],\n",
       "       [6.61],\n",
       "       [8.94],\n",
       "       [6.93],\n",
       "       [7.73],\n",
       "       [7.25],\n",
       "       [6.84],\n",
       "       [5.38],\n",
       "       [6.94],\n",
       "       [7.48],\n",
       "       [7.28],\n",
       "       [6.85],\n",
       "       [6.14],\n",
       "       [6.19],\n",
       "       [6.53],\n",
       "       [7.28],\n",
       "       [8.31],\n",
       "       [5.42],\n",
       "       [5.94],\n",
       "       [7.15],\n",
       "       [7.36],\n",
       "       [8.1 ],\n",
       "       [6.96],\n",
       "       [6.35],\n",
       "       [7.34],\n",
       "       [6.87],\n",
       "       [5.99],\n",
       "       [5.9 ],\n",
       "       [8.62],\n",
       "       [7.43],\n",
       "       [9.38],\n",
       "       [6.89],\n",
       "       [5.95],\n",
       "       [7.66],\n",
       "       [5.09],\n",
       "       [7.87],\n",
       "       [6.07],\n",
       "       [5.84],\n",
       "       [8.63],\n",
       "       [8.87],\n",
       "       [9.58],\n",
       "       [9.26],\n",
       "       [8.37],\n",
       "       [6.47],\n",
       "       [6.86],\n",
       "       [8.2 ],\n",
       "       [5.84],\n",
       "       [6.6 ],\n",
       "       [6.92],\n",
       "       [7.56],\n",
       "       [5.61],\n",
       "       [5.48],\n",
       "       [6.34],\n",
       "       [9.16],\n",
       "       [7.36],\n",
       "       [7.6 ],\n",
       "       [5.11],\n",
       "       [6.51],\n",
       "       [7.56],\n",
       "       [7.3 ],\n",
       "       [5.79],\n",
       "       [7.47],\n",
       "       [7.78],\n",
       "       [8.44],\n",
       "       [6.85],\n",
       "       [6.97],\n",
       "       [6.94],\n",
       "       [8.99],\n",
       "       [6.59],\n",
       "       [7.18],\n",
       "       [7.63],\n",
       "       [6.1 ],\n",
       "       [5.58],\n",
       "       [8.44],\n",
       "       [4.26],\n",
       "       [4.79],\n",
       "       [7.61],\n",
       "       [8.09],\n",
       "       [4.73],\n",
       "       [6.42],\n",
       "       [7.11],\n",
       "       [6.22],\n",
       "       [7.9 ],\n",
       "       [6.79],\n",
       "       [5.83],\n",
       "       [6.63],\n",
       "       [7.11],\n",
       "       [5.98],\n",
       "       [7.69],\n",
       "       [6.61],\n",
       "       [7.95],\n",
       "       [6.71],\n",
       "       [5.13],\n",
       "       [7.05],\n",
       "       [7.62],\n",
       "       [6.66],\n",
       "       [6.13],\n",
       "       [6.33],\n",
       "       [7.76],\n",
       "       [7.77],\n",
       "       [8.18],\n",
       "       [5.42],\n",
       "       [8.58],\n",
       "       [6.94],\n",
       "       [5.84],\n",
       "       [8.35],\n",
       "       [9.04],\n",
       "       [7.12],\n",
       "       [7.4 ],\n",
       "       [7.39],\n",
       "       [5.23],\n",
       "       [6.5 ],\n",
       "       [5.12],\n",
       "       [5.1 ],\n",
       "       [6.06],\n",
       "       [7.33],\n",
       "       [5.91],\n",
       "       [6.78],\n",
       "       [7.93],\n",
       "       [7.29],\n",
       "       [6.68],\n",
       "       [6.37],\n",
       "       [5.84],\n",
       "       [6.05],\n",
       "       [7.2 ],\n",
       "       [6.1 ],\n",
       "       [5.64],\n",
       "       [7.14],\n",
       "       [7.91],\n",
       "       [7.19],\n",
       "       [7.91],\n",
       "       [6.76],\n",
       "       [6.93],\n",
       "       [4.85],\n",
       "       [6.17],\n",
       "       [5.84],\n",
       "       [6.07],\n",
       "       [5.66],\n",
       "       [7.57],\n",
       "       [8.28],\n",
       "       [6.3 ],\n",
       "       [6.12],\n",
       "       [7.37],\n",
       "       [7.94],\n",
       "       [7.08],\n",
       "       [6.98],\n",
       "       [7.38],\n",
       "       [6.47],\n",
       "       [5.95],\n",
       "       [8.71],\n",
       "       [7.13],\n",
       "       [7.3 ],\n",
       "       [5.53],\n",
       "       [8.93],\n",
       "       [9.06],\n",
       "       [8.21],\n",
       "       [8.6 ],\n",
       "       [8.13],\n",
       "       [8.65],\n",
       "       [9.31],\n",
       "       [6.22],\n",
       "       [8.01],\n",
       "       [6.93],\n",
       "       [6.75],\n",
       "       [7.32],\n",
       "       [7.04],\n",
       "       [6.29],\n",
       "       [7.09],\n",
       "       [8.15],\n",
       "       [7.14],\n",
       "       [6.19],\n",
       "       [8.22],\n",
       "       [5.88],\n",
       "       [7.28],\n",
       "       [7.88],\n",
       "       [6.31],\n",
       "       [7.84],\n",
       "       [6.26],\n",
       "       [7.35],\n",
       "       [8.11],\n",
       "       [6.19],\n",
       "       [7.28],\n",
       "       [8.25],\n",
       "       [4.57],\n",
       "       [7.89],\n",
       "       [6.93],\n",
       "       [5.89],\n",
       "       [7.21],\n",
       "       [7.63],\n",
       "       [6.22]])"
      ]
     },
     "execution_count": 9,
     "metadata": {},
     "output_type": "execute_result"
    }
   ],
   "source": [
    "x"
   ]
  },
  {
   "cell_type": "code",
   "execution_count": 10,
   "id": "0b93da1e",
   "metadata": {},
   "outputs": [
    {
     "data": {
      "text/plain": [
       "array([3.26, 1.98, 3.25, 3.67, 3.57, 2.99, 2.6 , 2.48, 2.31, 3.51, 1.86,\n",
       "       2.6 , 3.65, 2.89, 3.42, 3.23, 2.35, 2.09, 2.98, 2.83, 3.16, 2.93,\n",
       "       2.3 , 2.48, 2.71, 3.65, 3.42, 2.16, 2.24, 3.49, 3.26, 3.89, 3.08,\n",
       "       2.73, 3.42, 2.87, 2.84, 2.43, 4.36, 3.33, 4.02, 2.7 , 2.54, 2.76,\n",
       "       1.86, 3.58, 2.26, 3.26, 4.09, 4.62, 4.43, 3.79, 4.11, 2.61, 3.09,\n",
       "       3.39, 2.74, 1.94, 3.09, 3.31, 2.19, 1.61, 2.09, 4.25, 2.92, 3.81,\n",
       "       1.63, 2.89, 2.99, 2.94, 2.35, 3.34, 3.62, 4.03, 3.44, 3.28, 3.15,\n",
       "       4.6 , 2.21, 3.  , 3.44, 2.2 , 2.17, 3.49, 1.53, 1.48, 2.77, 3.55,\n",
       "       1.48, 2.72, 2.66, 2.14, 4.  , 3.08, 2.42, 2.79, 2.61, 2.84, 3.83,\n",
       "       3.24, 4.14, 3.52, 1.37, 3.  , 3.74, 2.82, 2.19, 2.59, 3.54, 4.06,\n",
       "       3.76, 2.25, 4.1 , 2.37, 1.87, 4.21, 3.33, 2.99, 2.88, 2.65, 1.73,\n",
       "       3.02, 2.01, 2.3 , 2.31, 3.16, 2.6 , 3.11, 3.34, 3.12, 2.49, 2.01,\n",
       "       2.48, 2.58, 2.83, 2.6 , 2.1 , 3.13, 3.89, 2.4 , 3.15, 3.18, 3.04,\n",
       "       1.54, 2.42, 2.18, 2.46, 2.21, 3.4 , 3.67, 2.73, 2.76, 3.08, 3.99,\n",
       "       2.85, 3.09, 3.13, 2.7 , 3.04, 4.08, 2.93, 3.33, 2.55, 3.91, 3.82,\n",
       "       4.08, 3.98, 3.6 , 3.52, 4.37, 2.87, 3.76, 2.51, 2.56, 2.99, 3.5 ,\n",
       "       3.23, 3.64, 3.63, 3.03, 2.72, 3.89, 2.08, 2.72, 3.14, 3.18, 3.47,\n",
       "       2.44, 3.08, 4.06, 2.69, 3.48, 3.75, 1.94, 3.67, 2.46, 2.57, 3.24,\n",
       "       3.96, 2.33])"
      ]
     },
     "execution_count": 10,
     "metadata": {},
     "output_type": "execute_result"
    }
   ],
   "source": [
    "y"
   ]
  },
  {
   "cell_type": "code",
   "execution_count": 11,
   "id": "9240bc39",
   "metadata": {},
   "outputs": [
    {
     "name": "stdout",
     "output_type": "stream",
     "text": [
      "(200, 1)\n",
      "(200,)\n"
     ]
    }
   ],
   "source": [
    "print(x.shape)\n",
    "print(y.shape)"
   ]
  },
  {
   "cell_type": "code",
   "execution_count": 12,
   "id": "1d5f8eb5",
   "metadata": {},
   "outputs": [],
   "source": [
    "x_train,x_test,y_train,y_test=train_test_split(x,y,test_size=0.1,random_state=2)"
   ]
  },
  {
   "cell_type": "code",
   "execution_count": 13,
   "id": "0ac0b924",
   "metadata": {},
   "outputs": [
    {
     "data": {
      "text/plain": [
       "array([[6.19],\n",
       "       [7.28],\n",
       "       [6.73],\n",
       "       [7.2 ],\n",
       "       [8.21],\n",
       "       [6.75],\n",
       "       [7.87],\n",
       "       [7.6 ],\n",
       "       [8.63],\n",
       "       [5.12],\n",
       "       [8.15],\n",
       "       [7.36],\n",
       "       [8.31],\n",
       "       [6.6 ],\n",
       "       [6.59],\n",
       "       [7.47],\n",
       "       [7.93],\n",
       "       [6.29],\n",
       "       [6.37],\n",
       "       [6.47],\n",
       "       [7.14],\n",
       "       [8.93],\n",
       "       [5.42],\n",
       "       [5.1 ],\n",
       "       [7.77],\n",
       "       [6.76],\n",
       "       [6.89],\n",
       "       [6.68],\n",
       "       [7.91],\n",
       "       [7.89],\n",
       "       [8.71],\n",
       "       [7.95],\n",
       "       [6.61],\n",
       "       [6.26],\n",
       "       [6.53],\n",
       "       [6.42],\n",
       "       [5.11],\n",
       "       [6.09],\n",
       "       [6.93],\n",
       "       [7.04],\n",
       "       [5.94],\n",
       "       [6.05],\n",
       "       [5.83],\n",
       "       [5.95],\n",
       "       [9.31],\n",
       "       [5.58],\n",
       "       [7.88],\n",
       "       [6.13],\n",
       "       [7.76],\n",
       "       [4.85],\n",
       "       [6.19],\n",
       "       [8.6 ],\n",
       "       [6.07],\n",
       "       [7.18],\n",
       "       [5.12],\n",
       "       [7.39],\n",
       "       [8.25],\n",
       "       [8.28],\n",
       "       [7.13],\n",
       "       [7.35],\n",
       "       [5.66],\n",
       "       [5.99],\n",
       "       [8.01],\n",
       "       [7.14],\n",
       "       [6.34],\n",
       "       [6.89],\n",
       "       [5.42],\n",
       "       [6.47],\n",
       "       [7.69],\n",
       "       [7.4 ],\n",
       "       [7.28],\n",
       "       [5.95],\n",
       "       [7.38],\n",
       "       [6.93],\n",
       "       [8.99],\n",
       "       [7.36],\n",
       "       [7.08],\n",
       "       [5.38],\n",
       "       [7.56],\n",
       "       [8.22],\n",
       "       [5.84],\n",
       "       [6.78],\n",
       "       [7.19],\n",
       "       [7.28],\n",
       "       [6.79],\n",
       "       [6.12],\n",
       "       [6.85],\n",
       "       [8.2 ],\n",
       "       [6.84],\n",
       "       [7.37],\n",
       "       [6.22],\n",
       "       [6.61],\n",
       "       [5.23],\n",
       "       [7.21],\n",
       "       [6.85],\n",
       "       [6.19],\n",
       "       [7.3 ],\n",
       "       [6.17],\n",
       "       [5.89],\n",
       "       [8.09],\n",
       "       [7.11],\n",
       "       [4.26],\n",
       "       [6.94],\n",
       "       [5.98],\n",
       "       [6.71],\n",
       "       [7.33],\n",
       "       [9.06],\n",
       "       [6.1 ],\n",
       "       [5.48],\n",
       "       [6.1 ],\n",
       "       [7.56],\n",
       "       [7.29],\n",
       "       [5.84],\n",
       "       [7.48],\n",
       "       [7.61],\n",
       "       [5.79],\n",
       "       [5.61],\n",
       "       [7.34],\n",
       "       [9.38],\n",
       "       [7.91],\n",
       "       [6.94],\n",
       "       [7.94],\n",
       "       [8.31],\n",
       "       [6.96],\n",
       "       [6.93],\n",
       "       [7.11],\n",
       "       [8.44],\n",
       "       [8.18],\n",
       "       [6.66],\n",
       "       [8.44],\n",
       "       [7.12],\n",
       "       [6.3 ],\n",
       "       [5.84],\n",
       "       [6.98],\n",
       "       [7.63],\n",
       "       [5.64],\n",
       "       [7.43],\n",
       "       [8.87],\n",
       "       [7.84],\n",
       "       [5.84],\n",
       "       [9.58],\n",
       "       [8.37],\n",
       "       [7.63],\n",
       "       [6.31],\n",
       "       [6.5 ],\n",
       "       [8.11],\n",
       "       [6.07],\n",
       "       [4.73],\n",
       "       [7.3 ],\n",
       "       [6.51],\n",
       "       [7.28],\n",
       "       [6.92],\n",
       "       [6.35],\n",
       "       [8.62],\n",
       "       [7.05],\n",
       "       [9.26],\n",
       "       [6.33],\n",
       "       [6.22],\n",
       "       [6.94],\n",
       "       [5.13],\n",
       "       [8.13],\n",
       "       [5.9 ],\n",
       "       [9.04],\n",
       "       [6.06],\n",
       "       [7.57],\n",
       "       [8.1 ],\n",
       "       [9.16],\n",
       "       [5.84],\n",
       "       [7.89],\n",
       "       [6.63],\n",
       "       [7.09],\n",
       "       [5.53],\n",
       "       [6.75],\n",
       "       [7.62],\n",
       "       [6.97],\n",
       "       [7.66],\n",
       "       [6.14],\n",
       "       [7.78],\n",
       "       [7.25],\n",
       "       [8.65]])"
      ]
     },
     "execution_count": 13,
     "metadata": {},
     "output_type": "execute_result"
    }
   ],
   "source": [
    "x_train"
   ]
  },
  {
   "cell_type": "code",
   "execution_count": 14,
   "id": "adfe01c6",
   "metadata": {},
   "outputs": [
    {
     "data": {
      "text/plain": [
       "array([[8.58],\n",
       "       [7.15],\n",
       "       [5.88],\n",
       "       [6.22],\n",
       "       [4.57],\n",
       "       [4.79],\n",
       "       [5.32],\n",
       "       [6.86],\n",
       "       [8.35],\n",
       "       [6.87],\n",
       "       [8.94],\n",
       "       [7.9 ],\n",
       "       [6.93],\n",
       "       [5.91],\n",
       "       [7.32],\n",
       "       [7.82],\n",
       "       [5.09],\n",
       "       [7.42],\n",
       "       [6.94],\n",
       "       [7.73]])"
      ]
     },
     "execution_count": 14,
     "metadata": {},
     "output_type": "execute_result"
    }
   ],
   "source": [
    "x_test"
   ]
  },
  {
   "cell_type": "code",
   "execution_count": 15,
   "id": "bbe87130",
   "metadata": {},
   "outputs": [
    {
     "name": "stdout",
     "output_type": "stream",
     "text": [
      "(180, 1)\n",
      "(20, 1)\n",
      "(180,)\n",
      "(20,)\n"
     ]
    }
   ],
   "source": [
    "print(x_train.shape)\n",
    "print(x_test.shape)\n",
    "print(y_train.shape)\n",
    "print(y_test.shape)"
   ]
  },
  {
   "cell_type": "code",
   "execution_count": 16,
   "id": "4ac5bf36",
   "metadata": {},
   "outputs": [
    {
     "name": "stdout",
     "output_type": "stream",
     "text": [
      "(180, 1)\n",
      "(180,)\n"
     ]
    }
   ],
   "source": [
    "print(x_train.shape)\n",
    "print(y_train.shape)"
   ]
  },
  {
   "cell_type": "code",
   "execution_count": 17,
   "id": "9e2cf468",
   "metadata": {},
   "outputs": [],
   "source": [
    "lr=LinearRegression()"
   ]
  },
  {
   "cell_type": "code",
   "execution_count": 18,
   "id": "5cce92d7",
   "metadata": {},
   "outputs": [
    {
     "data": {
      "text/html": [
       "<style>#sk-container-id-1 {color: black;}#sk-container-id-1 pre{padding: 0;}#sk-container-id-1 div.sk-toggleable {background-color: white;}#sk-container-id-1 label.sk-toggleable__label {cursor: pointer;display: block;width: 100%;margin-bottom: 0;padding: 0.3em;box-sizing: border-box;text-align: center;}#sk-container-id-1 label.sk-toggleable__label-arrow:before {content: \"▸\";float: left;margin-right: 0.25em;color: #696969;}#sk-container-id-1 label.sk-toggleable__label-arrow:hover:before {color: black;}#sk-container-id-1 div.sk-estimator:hover label.sk-toggleable__label-arrow:before {color: black;}#sk-container-id-1 div.sk-toggleable__content {max-height: 0;max-width: 0;overflow: hidden;text-align: left;background-color: #f0f8ff;}#sk-container-id-1 div.sk-toggleable__content pre {margin: 0.2em;color: black;border-radius: 0.25em;background-color: #f0f8ff;}#sk-container-id-1 input.sk-toggleable__control:checked~div.sk-toggleable__content {max-height: 200px;max-width: 100%;overflow: auto;}#sk-container-id-1 input.sk-toggleable__control:checked~label.sk-toggleable__label-arrow:before {content: \"▾\";}#sk-container-id-1 div.sk-estimator input.sk-toggleable__control:checked~label.sk-toggleable__label {background-color: #d4ebff;}#sk-container-id-1 div.sk-label input.sk-toggleable__control:checked~label.sk-toggleable__label {background-color: #d4ebff;}#sk-container-id-1 input.sk-hidden--visually {border: 0;clip: rect(1px 1px 1px 1px);clip: rect(1px, 1px, 1px, 1px);height: 1px;margin: -1px;overflow: hidden;padding: 0;position: absolute;width: 1px;}#sk-container-id-1 div.sk-estimator {font-family: monospace;background-color: #f0f8ff;border: 1px dotted black;border-radius: 0.25em;box-sizing: border-box;margin-bottom: 0.5em;}#sk-container-id-1 div.sk-estimator:hover {background-color: #d4ebff;}#sk-container-id-1 div.sk-parallel-item::after {content: \"\";width: 100%;border-bottom: 1px solid gray;flex-grow: 1;}#sk-container-id-1 div.sk-label:hover label.sk-toggleable__label {background-color: #d4ebff;}#sk-container-id-1 div.sk-serial::before {content: \"\";position: absolute;border-left: 1px solid gray;box-sizing: border-box;top: 0;bottom: 0;left: 50%;z-index: 0;}#sk-container-id-1 div.sk-serial {display: flex;flex-direction: column;align-items: center;background-color: white;padding-right: 0.2em;padding-left: 0.2em;position: relative;}#sk-container-id-1 div.sk-item {position: relative;z-index: 1;}#sk-container-id-1 div.sk-parallel {display: flex;align-items: stretch;justify-content: center;background-color: white;position: relative;}#sk-container-id-1 div.sk-item::before, #sk-container-id-1 div.sk-parallel-item::before {content: \"\";position: absolute;border-left: 1px solid gray;box-sizing: border-box;top: 0;bottom: 0;left: 50%;z-index: -1;}#sk-container-id-1 div.sk-parallel-item {display: flex;flex-direction: column;z-index: 1;position: relative;background-color: white;}#sk-container-id-1 div.sk-parallel-item:first-child::after {align-self: flex-end;width: 50%;}#sk-container-id-1 div.sk-parallel-item:last-child::after {align-self: flex-start;width: 50%;}#sk-container-id-1 div.sk-parallel-item:only-child::after {width: 0;}#sk-container-id-1 div.sk-dashed-wrapped {border: 1px dashed gray;margin: 0 0.4em 0.5em 0.4em;box-sizing: border-box;padding-bottom: 0.4em;background-color: white;}#sk-container-id-1 div.sk-label label {font-family: monospace;font-weight: bold;display: inline-block;line-height: 1.2em;}#sk-container-id-1 div.sk-label-container {text-align: center;}#sk-container-id-1 div.sk-container {/* jupyter's `normalize.less` sets `[hidden] { display: none; }` but bootstrap.min.css set `[hidden] { display: none !important; }` so we also need the `!important` here to be able to override the default hidden behavior on the sphinx rendered scikit-learn.org. See: https://github.com/scikit-learn/scikit-learn/issues/21755 */display: inline-block !important;position: relative;}#sk-container-id-1 div.sk-text-repr-fallback {display: none;}</style><div id=\"sk-container-id-1\" class=\"sk-top-container\"><div class=\"sk-text-repr-fallback\"><pre>LinearRegression()</pre><b>In a Jupyter environment, please rerun this cell to show the HTML representation or trust the notebook. <br />On GitHub, the HTML representation is unable to render, please try loading this page with nbviewer.org.</b></div><div class=\"sk-container\" hidden><div class=\"sk-item\"><div class=\"sk-estimator sk-toggleable\"><input class=\"sk-toggleable__control sk-hidden--visually\" id=\"sk-estimator-id-1\" type=\"checkbox\" checked><label for=\"sk-estimator-id-1\" class=\"sk-toggleable__label sk-toggleable__label-arrow\">LinearRegression</label><div class=\"sk-toggleable__content\"><pre>LinearRegression()</pre></div></div></div></div></div>"
      ],
      "text/plain": [
       "LinearRegression()"
      ]
     },
     "execution_count": 18,
     "metadata": {},
     "output_type": "execute_result"
    }
   ],
   "source": [
    "lr.fit(x_train,y_train)"
   ]
  },
  {
   "cell_type": "code",
   "execution_count": 19,
   "id": "b66c6162",
   "metadata": {},
   "outputs": [],
   "source": [
    "y_pred=lr.predict(x_test)"
   ]
  },
  {
   "cell_type": "code",
   "execution_count": 20,
   "id": "71821cb8",
   "metadata": {},
   "outputs": [
    {
     "data": {
      "text/plain": [
       "array([3.8934864 , 3.08586648, 2.36860962, 2.56063114, 1.628762  ,\n",
       "       1.75301122, 2.05233888, 2.92208342, 3.76358949, 2.92773111,\n",
       "       4.09680331, 3.50944336, 2.96161726, 2.3855527 , 3.18187724,\n",
       "       3.46426183, 1.92244197, 3.23835416, 2.96726495, 3.4134326 ])"
      ]
     },
     "execution_count": 20,
     "metadata": {},
     "output_type": "execute_result"
    }
   ],
   "source": [
    "y_pred"
   ]
  },
  {
   "cell_type": "code",
   "execution_count": 21,
   "id": "76d0a5b9",
   "metadata": {},
   "outputs": [
    {
     "data": {
      "text/plain": [
       "array([4.1 , 3.49, 2.08, 2.33, 1.94, 1.48, 1.86, 3.09, 4.21, 2.87, 3.65,\n",
       "       4.  , 2.89, 2.6 , 2.99, 3.25, 1.86, 3.67, 2.37, 3.42])"
      ]
     },
     "execution_count": 21,
     "metadata": {},
     "output_type": "execute_result"
    }
   ],
   "source": [
    "y_test"
   ]
  },
  {
   "cell_type": "code",
   "execution_count": 22,
   "id": "fc2a8a78",
   "metadata": {},
   "outputs": [
    {
     "data": {
      "text/plain": [
       "Text(0, 0.5, 'Package')"
      ]
     },
     "execution_count": 22,
     "metadata": {},
     "output_type": "execute_result"
    },
    {
     "data": {
      "image/png": "[encoded data removed]",
      "text/plain": [
       "<Figure size 640x480 with 1 Axes>"
      ]
     },
     "metadata": {},
     "output_type": "display_data"
    }
   ],
   "source": [
    "plt.scatter(df['cgpa'],df['package'])\n",
    "plt.plot(x_test,y_pred,c='red')\n",
    "plt.xlabel('CGPA')\n",
    "plt.ylabel('Package')"
   ]
  },
  {
   "cell_type": "code",
   "execution_count": 23,
   "id": "07313317",
   "metadata": {},
   "outputs": [
    {
     "name": "stdout",
     "output_type": "stream",
     "text": [
      "Mean Absolute Error: 0.26530089639951654\n",
      "Mean Squared Error: 0.09513870266369383\n",
      "R^2 Score: 0.8510662353930813\n"
     ]
    }
   ],
   "source": [
    "from sklearn.metrics import mean_absolute_error, mean_squared_error, r2_score\n",
    "\n",
    "# Calculate Mean Absolute Error (MAE)\n",
    "mae = mean_absolute_error(y_test, y_pred)\n",
    "print(\"Mean Absolute Error:\", mae)\n",
    "\n",
    "# Calculate Mean Squared Error (MSE)\n",
    "mse = mean_squared_error(y_test, y_pred)\n",
    "print(\"Mean Squared Error:\", mse)\n",
    "\n",
    "# Calculate R^2 score\n",
    "r2 = r2_score(y_test, y_pred)\n",
    "print(\"R^2 Score:\", r2)\n"
   ]
  },
  {
   "cell_type": "code",
   "execution_count": 26,
   "id": "5e819702",
   "metadata": {},
   "outputs": [],
   "source": [
    "# Equation of a line --- y=mx+c  where m=coefficient and c is intercept"
   ]
  },
  {
   "cell_type": "code",
   "execution_count": 27,
   "id": "6300789d",
   "metadata": {},
   "outputs": [],
   "source": [
    "m = lr.coef_"
   ]
  },
  {
   "cell_type": "code",
   "execution_count": 28,
   "id": "85ae466c",
   "metadata": {},
   "outputs": [],
   "source": [
    "c=lr.intercept_"
   ]
  },
  {
   "cell_type": "code",
   "execution_count": 29,
   "id": "870f7dc6",
   "metadata": {},
   "outputs": [
    {
     "name": "stdout",
     "output_type": "stream",
     "text": [
      "[3.8934864]\n"
     ]
    }
   ],
   "source": [
    "y=m*8.58+c\n",
    "print(y)"
   ]
  },
  {
   "cell_type": "code",
   "execution_count": null,
   "id": "e5397ca8",
   "metadata": {},
   "outputs": [],
   "source": []
  }
 ],
 "metadata": {
  "kernelspec": {
   "display_name": "Python 3 (ipykernel)",
   "language": "python",
   "name": "python3"
  },
  "language_info": {
   "codemirror_mode": {
    "name": "ipython",
    "version": 3
   },
   "file_extension": ".py",
   "mimetype": "text/x-python",
   "name": "python",
   "nbconvert_exporter": "python",
   "pygments_lexer": "ipython3",
   "version": "3.11.5"
  }
 },
 "nbformat": 4,
 "nbformat_minor": 5
}
