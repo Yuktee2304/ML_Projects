{
 "cells": [
  {
   "cell_type": "markdown",
   "id": "15faa066",
   "metadata": {},
   "source": [
    "# Introduction to Titanic dataset\n",
    "<!-- Variable\tDefinition\tKey\n",
    "survival\tSurvival\t0 = No, 1 = Yes\n",
    "pclass\tTicket class\t1 = 1st, 2 = 2nd, 3 = 3rd\n",
    "sex\tSex\t\n",
    "Age\tAge in years\t\n",
    "sibsp\t# of siblings / spouses aboard the Titanic\t\n",
    "parch\t# of parents / children aboard the Titanic\t\n",
    "ticket\tTicket number\t\n",
    "fare\tPassenger fare\t\n",
    "cabin\tCabin number\t\n",
    "embarked\tPort of Embarkation\tC = Cherbourg, Q = Queenstown, S = Southampton\n",
    "Variable Notes\n",
    "pclass: A proxy for socio-economic status (SES)\n",
    "1st = Upper\n",
    "2nd = Middle\n",
    "3rd = Lower\n",
    "age: Age is fractional if less than 1. If the age is estimated, is it in the form of xx.5\n",
    "sibsp: The dataset defines family relations in this way...\n",
    "Sibling = brother, sister, stepbrother, stepsister\n",
    "Spouse = husband, wife (mistresses and fiancés were ignored)\n",
    "parch: The dataset defines family relations in this way...\n",
    "Parent = mother, father\n",
    "Child = daughter, son, stepdaughter, stepson\n",
    "Some children travelled only with a nanny, therefore parch=0 for them. -->"
   ]
  },
  {
   "cell_type": "markdown",
   "id": "d9c88a9e",
   "metadata": {},
   "source": [
    "# Import Libraries\n",
    "Let's import some libraries to get started!"
   ]
  },
  {
   "cell_type": "code",
   "execution_count": 1,
   "id": "77e931e1",
   "metadata": {},
   "outputs": [],
   "source": [
    "import pandas as pd\n",
    "import numpy as np\n",
    "import matplotlib.pyplot as plt\n",
    "import seaborn as sns\n",
    "import math\n",
    "\n",
    "from sklearn.model_selection import train_test_split\n",
    "from sklearn.preprocessing import StandardScaler\n",
    "from sklearn.metrics import accuracy_score,confusion_matrix\n",
    "from sklearn.linear_model import LogisticRegression"
   ]
  },
  {
   "cell_type": "markdown",
   "id": "cd8ea86d",
   "metadata": {},
   "source": [
    "# The Data\n",
    "Let's start by reading in the titanic_train.csv file into a pandas dataframe."
   ]
  },
  {
   "cell_type": "code",
   "execution_count": 2,
   "id": "190151b0",
   "metadata": {},
   "outputs": [],
   "source": [
    "df=pd.read_csv('Titanic-Dataset.csv')"
   ]
  },
  {
   "cell_type": "code",
   "execution_count": 3,
   "id": "5664327c",
   "metadata": {},
   "outputs": [
    {
     "data": {
      "text/html": [
       "<div>\n",
       "<style scoped>\n",
       "    .dataframe tbody tr th:only-of-type {\n",
       "        vertical-align: middle;\n",
       "    }\n",
       "\n",
       "    .dataframe tbody tr th {\n",
       "        vertical-align: top;\n",
       "    }\n",
       "\n",
       "    .dataframe thead th {\n",
       "        text-align: right;\n",
       "    }\n",
       "</style>\n",
       "<table border=\"1\" class=\"dataframe\">\n",
       "  <thead>\n",
       "    <tr style=\"text-align: right;\">\n",
       "      <th></th>\n",
       "      <th>PassengerId</th>\n",
       "      <th>Survived</th>\n",
       "      <th>Pclass</th>\n",
       "      <th>Name</th>\n",
       "      <th>Sex</th>\n",
       "      <th>Age</th>\n",
       "      <th>SibSp</th>\n",
       "      <th>Parch</th>\n",
       "      <th>Ticket</th>\n",
       "      <th>Fare</th>\n",
       "      <th>Cabin</th>\n",
       "      <th>Embarked</th>\n",
       "    </tr>\n",
       "  </thead>\n",
       "  <tbody>\n",
       "    <tr>\n",
       "      <th>0</th>\n",
       "      <td>1</td>\n",
       "      <td>0</td>\n",
       "      <td>3</td>\n",
       "      <td>Braund, Mr. Owen Harris</td>\n",
       "      <td>male</td>\n",
       "      <td>22.0</td>\n",
       "      <td>1</td>\n",
       "      <td>0</td>\n",
       "      <td>A/5 21171</td>\n",
       "      <td>7.2500</td>\n",
       "      <td>NaN</td>\n",
       "      <td>S</td>\n",
       "    </tr>\n",
       "    <tr>\n",
       "      <th>1</th>\n",
       "      <td>2</td>\n",
       "      <td>1</td>\n",
       "      <td>1</td>\n",
       "      <td>Cumings, Mrs. John Bradley (Florence Briggs Th...</td>\n",
       "      <td>female</td>\n",
       "      <td>38.0</td>\n",
       "      <td>1</td>\n",
       "      <td>0</td>\n",
       "      <td>PC 17599</td>\n",
       "      <td>71.2833</td>\n",
       "      <td>C85</td>\n",
       "      <td>C</td>\n",
       "    </tr>\n",
       "    <tr>\n",
       "      <th>2</th>\n",
       "      <td>3</td>\n",
       "      <td>1</td>\n",
       "      <td>3</td>\n",
       "      <td>Heikkinen, Miss. Laina</td>\n",
       "      <td>female</td>\n",
       "      <td>26.0</td>\n",
       "      <td>0</td>\n",
       "      <td>0</td>\n",
       "      <td>STON/O2. 3101282</td>\n",
       "      <td>7.9250</td>\n",
       "      <td>NaN</td>\n",
       "      <td>S</td>\n",
       "    </tr>\n",
       "    <tr>\n",
       "      <th>3</th>\n",
       "      <td>4</td>\n",
       "      <td>1</td>\n",
       "      <td>1</td>\n",
       "      <td>Futrelle, Mrs. Jacques Heath (Lily May Peel)</td>\n",
       "      <td>female</td>\n",
       "      <td>35.0</td>\n",
       "      <td>1</td>\n",
       "      <td>0</td>\n",
       "      <td>113803</td>\n",
       "      <td>53.1000</td>\n",
       "      <td>C123</td>\n",
       "      <td>S</td>\n",
       "    </tr>\n",
       "    <tr>\n",
       "      <th>4</th>\n",
       "      <td>5</td>\n",
       "      <td>0</td>\n",
       "      <td>3</td>\n",
       "      <td>Allen, Mr. William Henry</td>\n",
       "      <td>male</td>\n",
       "      <td>35.0</td>\n",
       "      <td>0</td>\n",
       "      <td>0</td>\n",
       "      <td>373450</td>\n",
       "      <td>8.0500</td>\n",
       "      <td>NaN</td>\n",
       "      <td>S</td>\n",
       "    </tr>\n",
       "    <tr>\n",
       "      <th>...</th>\n",
       "      <td>...</td>\n",
       "      <td>...</td>\n",
       "      <td>...</td>\n",
       "      <td>...</td>\n",
       "      <td>...</td>\n",
       "      <td>...</td>\n",
       "      <td>...</td>\n",
       "      <td>...</td>\n",
       "      <td>...</td>\n",
       "      <td>...</td>\n",
       "      <td>...</td>\n",
       "      <td>...</td>\n",
       "    </tr>\n",
       "    <tr>\n",
       "      <th>886</th>\n",
       "      <td>887</td>\n",
       "      <td>0</td>\n",
       "      <td>2</td>\n",
       "      <td>Montvila, Rev. Juozas</td>\n",
       "      <td>male</td>\n",
       "      <td>27.0</td>\n",
       "      <td>0</td>\n",
       "      <td>0</td>\n",
       "      <td>211536</td>\n",
       "      <td>13.0000</td>\n",
       "      <td>NaN</td>\n",
       "      <td>S</td>\n",
       "    </tr>\n",
       "    <tr>\n",
       "      <th>887</th>\n",
       "      <td>888</td>\n",
       "      <td>1</td>\n",
       "      <td>1</td>\n",
       "      <td>Graham, Miss. Margaret Edith</td>\n",
       "      <td>female</td>\n",
       "      <td>19.0</td>\n",
       "      <td>0</td>\n",
       "      <td>0</td>\n",
       "      <td>112053</td>\n",
       "      <td>30.0000</td>\n",
       "      <td>B42</td>\n",
       "      <td>S</td>\n",
       "    </tr>\n",
       "    <tr>\n",
       "      <th>888</th>\n",
       "      <td>889</td>\n",
       "      <td>0</td>\n",
       "      <td>3</td>\n",
       "      <td>Johnston, Miss. Catherine Helen \"Carrie\"</td>\n",
       "      <td>female</td>\n",
       "      <td>NaN</td>\n",
       "      <td>1</td>\n",
       "      <td>2</td>\n",
       "      <td>W./C. 6607</td>\n",
       "      <td>23.4500</td>\n",
       "      <td>NaN</td>\n",
       "      <td>S</td>\n",
       "    </tr>\n",
       "    <tr>\n",
       "      <th>889</th>\n",
       "      <td>890</td>\n",
       "      <td>1</td>\n",
       "      <td>1</td>\n",
       "      <td>Behr, Mr. Karl Howell</td>\n",
       "      <td>male</td>\n",
       "      <td>26.0</td>\n",
       "      <td>0</td>\n",
       "      <td>0</td>\n",
       "      <td>111369</td>\n",
       "      <td>30.0000</td>\n",
       "      <td>C148</td>\n",
       "      <td>C</td>\n",
       "    </tr>\n",
       "    <tr>\n",
       "      <th>890</th>\n",
       "      <td>891</td>\n",
       "      <td>0</td>\n",
       "      <td>3</td>\n",
       "      <td>Dooley, Mr. Patrick</td>\n",
       "      <td>male</td>\n",
       "      <td>32.0</td>\n",
       "      <td>0</td>\n",
       "      <td>0</td>\n",
       "      <td>370376</td>\n",
       "      <td>7.7500</td>\n",
       "      <td>NaN</td>\n",
       "      <td>Q</td>\n",
       "    </tr>\n",
       "  </tbody>\n",
       "</table>\n",
       "<p>891 rows × 12 columns</p>\n",
       "</div>"
      ],
      "text/plain": [
       "     PassengerId  Survived  Pclass  \\\n",
       "0              1         0       3   \n",
       "1              2         1       1   \n",
       "2              3         1       3   \n",
       "3              4         1       1   \n",
       "4              5         0       3   \n",
       "..           ...       ...     ...   \n",
       "886          887         0       2   \n",
       "887          888         1       1   \n",
       "888          889         0       3   \n",
       "889          890         1       1   \n",
       "890          891         0       3   \n",
       "\n",
       "                                                  Name     Sex   Age  SibSp  \\\n",
       "0                              Braund, Mr. Owen Harris    male  22.0      1   \n",
       "1    Cumings, Mrs. John Bradley (Florence Briggs Th...  female  38.0      1   \n",
       "2                               Heikkinen, Miss. Laina  female  26.0      0   \n",
       "3         Futrelle, Mrs. Jacques Heath (Lily May Peel)  female  35.0      1   \n",
       "4                             Allen, Mr. William Henry    male  35.0      0   \n",
       "..                                                 ...     ...   ...    ...   \n",
       "886                              Montvila, Rev. Juozas    male  27.0      0   \n",
       "887                       Graham, Miss. Margaret Edith  female  19.0      0   \n",
       "888           Johnston, Miss. Catherine Helen \"Carrie\"  female   NaN      1   \n",
       "889                              Behr, Mr. Karl Howell    male  26.0      0   \n",
       "890                                Dooley, Mr. Patrick    male  32.0      0   \n",
       "\n",
       "     Parch            Ticket     Fare Cabin Embarked  \n",
       "0        0         A/5 21171   7.2500   NaN        S  \n",
       "1        0          PC 17599  71.2833   C85        C  \n",
       "2        0  STON/O2. 3101282   7.9250   NaN        S  \n",
       "3        0            113803  53.1000  C123        S  \n",
       "4        0            373450   8.0500   NaN        S  \n",
       "..     ...               ...      ...   ...      ...  \n",
       "886      0            211536  13.0000   NaN        S  \n",
       "887      0            112053  30.0000   B42        S  \n",
       "888      2        W./C. 6607  23.4500   NaN        S  \n",
       "889      0            111369  30.0000  C148        C  \n",
       "890      0            370376   7.7500   NaN        Q  \n",
       "\n",
       "[891 rows x 12 columns]"
      ]
     },
     "execution_count": 3,
     "metadata": {},
     "output_type": "execute_result"
    }
   ],
   "source": [
    "df"
   ]
  },
  {
   "cell_type": "code",
   "execution_count": 4,
   "id": "7583227b",
   "metadata": {},
   "outputs": [],
   "source": [
    "df=df.drop(['PassengerId','Name','Sex','Ticket','Fare','Cabin','Embarked'],axis=1)"
   ]
  },
  {
   "cell_type": "code",
   "execution_count": 5,
   "id": "5fe9937d",
   "metadata": {},
   "outputs": [
    {
     "data": {
      "text/html": [
       "<div>\n",
       "<style scoped>\n",
       "    .dataframe tbody tr th:only-of-type {\n",
       "        vertical-align: middle;\n",
       "    }\n",
       "\n",
       "    .dataframe tbody tr th {\n",
       "        vertical-align: top;\n",
       "    }\n",
       "\n",
       "    .dataframe thead th {\n",
       "        text-align: right;\n",
       "    }\n",
       "</style>\n",
       "<table border=\"1\" class=\"dataframe\">\n",
       "  <thead>\n",
       "    <tr style=\"text-align: right;\">\n",
       "      <th></th>\n",
       "      <th>Survived</th>\n",
       "      <th>Pclass</th>\n",
       "      <th>Age</th>\n",
       "      <th>SibSp</th>\n",
       "      <th>Parch</th>\n",
       "    </tr>\n",
       "  </thead>\n",
       "  <tbody>\n",
       "    <tr>\n",
       "      <th>0</th>\n",
       "      <td>0</td>\n",
       "      <td>3</td>\n",
       "      <td>22.0</td>\n",
       "      <td>1</td>\n",
       "      <td>0</td>\n",
       "    </tr>\n",
       "    <tr>\n",
       "      <th>1</th>\n",
       "      <td>1</td>\n",
       "      <td>1</td>\n",
       "      <td>38.0</td>\n",
       "      <td>1</td>\n",
       "      <td>0</td>\n",
       "    </tr>\n",
       "    <tr>\n",
       "      <th>2</th>\n",
       "      <td>1</td>\n",
       "      <td>3</td>\n",
       "      <td>26.0</td>\n",
       "      <td>0</td>\n",
       "      <td>0</td>\n",
       "    </tr>\n",
       "    <tr>\n",
       "      <th>3</th>\n",
       "      <td>1</td>\n",
       "      <td>1</td>\n",
       "      <td>35.0</td>\n",
       "      <td>1</td>\n",
       "      <td>0</td>\n",
       "    </tr>\n",
       "    <tr>\n",
       "      <th>4</th>\n",
       "      <td>0</td>\n",
       "      <td>3</td>\n",
       "      <td>35.0</td>\n",
       "      <td>0</td>\n",
       "      <td>0</td>\n",
       "    </tr>\n",
       "    <tr>\n",
       "      <th>...</th>\n",
       "      <td>...</td>\n",
       "      <td>...</td>\n",
       "      <td>...</td>\n",
       "      <td>...</td>\n",
       "      <td>...</td>\n",
       "    </tr>\n",
       "    <tr>\n",
       "      <th>886</th>\n",
       "      <td>0</td>\n",
       "      <td>2</td>\n",
       "      <td>27.0</td>\n",
       "      <td>0</td>\n",
       "      <td>0</td>\n",
       "    </tr>\n",
       "    <tr>\n",
       "      <th>887</th>\n",
       "      <td>1</td>\n",
       "      <td>1</td>\n",
       "      <td>19.0</td>\n",
       "      <td>0</td>\n",
       "      <td>0</td>\n",
       "    </tr>\n",
       "    <tr>\n",
       "      <th>888</th>\n",
       "      <td>0</td>\n",
       "      <td>3</td>\n",
       "      <td>NaN</td>\n",
       "      <td>1</td>\n",
       "      <td>2</td>\n",
       "    </tr>\n",
       "    <tr>\n",
       "      <th>889</th>\n",
       "      <td>1</td>\n",
       "      <td>1</td>\n",
       "      <td>26.0</td>\n",
       "      <td>0</td>\n",
       "      <td>0</td>\n",
       "    </tr>\n",
       "    <tr>\n",
       "      <th>890</th>\n",
       "      <td>0</td>\n",
       "      <td>3</td>\n",
       "      <td>32.0</td>\n",
       "      <td>0</td>\n",
       "      <td>0</td>\n",
       "    </tr>\n",
       "  </tbody>\n",
       "</table>\n",
       "<p>891 rows × 5 columns</p>\n",
       "</div>"
      ],
      "text/plain": [
       "     Survived  Pclass   Age  SibSp  Parch\n",
       "0           0       3  22.0      1      0\n",
       "1           1       1  38.0      1      0\n",
       "2           1       3  26.0      0      0\n",
       "3           1       1  35.0      1      0\n",
       "4           0       3  35.0      0      0\n",
       "..        ...     ...   ...    ...    ...\n",
       "886         0       2  27.0      0      0\n",
       "887         1       1  19.0      0      0\n",
       "888         0       3   NaN      1      2\n",
       "889         1       1  26.0      0      0\n",
       "890         0       3  32.0      0      0\n",
       "\n",
       "[891 rows x 5 columns]"
      ]
     },
     "execution_count": 5,
     "metadata": {},
     "output_type": "execute_result"
    }
   ],
   "source": [
    "df"
   ]
  },
  {
   "cell_type": "markdown",
   "id": "96a21a6c",
   "metadata": {},
   "source": [
    "# Exploratory Data Analysis\n",
    "Let's begin some exploratory data analysis! We'll start by checking out missing data!\n",
    "\n",
    "# Missing Data\n",
    "We can use seaborn to create a simple heatmap to see where we are missing data!"
   ]
  },
  {
   "cell_type": "code",
   "execution_count": 6,
   "id": "2fdc6cfb",
   "metadata": {
    "scrolled": true
   },
   "outputs": [
    {
     "data": {
      "text/plain": [
       "Survived      0\n",
       "Pclass        0\n",
       "Age         177\n",
       "SibSp         0\n",
       "Parch         0\n",
       "dtype: int64"
      ]
     },
     "execution_count": 6,
     "metadata": {},
     "output_type": "execute_result"
    }
   ],
   "source": [
    "df.isnull().sum()"
   ]
  },
  {
   "cell_type": "code",
   "execution_count": 7,
   "id": "28fbdd41",
   "metadata": {},
   "outputs": [
    {
     "data": {
      "text/html": [
       "<div>\n",
       "<style scoped>\n",
       "    .dataframe tbody tr th:only-of-type {\n",
       "        vertical-align: middle;\n",
       "    }\n",
       "\n",
       "    .dataframe tbody tr th {\n",
       "        vertical-align: top;\n",
       "    }\n",
       "\n",
       "    .dataframe thead th {\n",
       "        text-align: right;\n",
       "    }\n",
       "</style>\n",
       "<table border=\"1\" class=\"dataframe\">\n",
       "  <thead>\n",
       "    <tr style=\"text-align: right;\">\n",
       "      <th></th>\n",
       "      <th>Survived</th>\n",
       "      <th>Pclass</th>\n",
       "      <th>Age</th>\n",
       "      <th>SibSp</th>\n",
       "      <th>Parch</th>\n",
       "    </tr>\n",
       "  </thead>\n",
       "  <tbody>\n",
       "    <tr>\n",
       "      <th>count</th>\n",
       "      <td>891.000000</td>\n",
       "      <td>891.000000</td>\n",
       "      <td>714.000000</td>\n",
       "      <td>891.000000</td>\n",
       "      <td>891.000000</td>\n",
       "    </tr>\n",
       "    <tr>\n",
       "      <th>mean</th>\n",
       "      <td>0.383838</td>\n",
       "      <td>2.308642</td>\n",
       "      <td>29.699118</td>\n",
       "      <td>0.523008</td>\n",
       "      <td>0.381594</td>\n",
       "    </tr>\n",
       "    <tr>\n",
       "      <th>std</th>\n",
       "      <td>0.486592</td>\n",
       "      <td>0.836071</td>\n",
       "      <td>14.526497</td>\n",
       "      <td>1.102743</td>\n",
       "      <td>0.806057</td>\n",
       "    </tr>\n",
       "    <tr>\n",
       "      <th>min</th>\n",
       "      <td>0.000000</td>\n",
       "      <td>1.000000</td>\n",
       "      <td>0.420000</td>\n",
       "      <td>0.000000</td>\n",
       "      <td>0.000000</td>\n",
       "    </tr>\n",
       "    <tr>\n",
       "      <th>25%</th>\n",
       "      <td>0.000000</td>\n",
       "      <td>2.000000</td>\n",
       "      <td>20.125000</td>\n",
       "      <td>0.000000</td>\n",
       "      <td>0.000000</td>\n",
       "    </tr>\n",
       "    <tr>\n",
       "      <th>50%</th>\n",
       "      <td>0.000000</td>\n",
       "      <td>3.000000</td>\n",
       "      <td>28.000000</td>\n",
       "      <td>0.000000</td>\n",
       "      <td>0.000000</td>\n",
       "    </tr>\n",
       "    <tr>\n",
       "      <th>75%</th>\n",
       "      <td>1.000000</td>\n",
       "      <td>3.000000</td>\n",
       "      <td>38.000000</td>\n",
       "      <td>1.000000</td>\n",
       "      <td>0.000000</td>\n",
       "    </tr>\n",
       "    <tr>\n",
       "      <th>max</th>\n",
       "      <td>1.000000</td>\n",
       "      <td>3.000000</td>\n",
       "      <td>80.000000</td>\n",
       "      <td>8.000000</td>\n",
       "      <td>6.000000</td>\n",
       "    </tr>\n",
       "  </tbody>\n",
       "</table>\n",
       "</div>"
      ],
      "text/plain": [
       "         Survived      Pclass         Age       SibSp       Parch\n",
       "count  891.000000  891.000000  714.000000  891.000000  891.000000\n",
       "mean     0.383838    2.308642   29.699118    0.523008    0.381594\n",
       "std      0.486592    0.836071   14.526497    1.102743    0.806057\n",
       "min      0.000000    1.000000    0.420000    0.000000    0.000000\n",
       "25%      0.000000    2.000000   20.125000    0.000000    0.000000\n",
       "50%      0.000000    3.000000   28.000000    0.000000    0.000000\n",
       "75%      1.000000    3.000000   38.000000    1.000000    0.000000\n",
       "max      1.000000    3.000000   80.000000    8.000000    6.000000"
      ]
     },
     "execution_count": 7,
     "metadata": {},
     "output_type": "execute_result"
    }
   ],
   "source": [
    "df.describe()"
   ]
  },
  {
   "cell_type": "code",
   "execution_count": 8,
   "id": "5e93369e",
   "metadata": {},
   "outputs": [
    {
     "data": {
      "text/plain": [
       "<Axes: >"
      ]
     },
     "execution_count": 8,
     "metadata": {},
     "output_type": "execute_result"
    },
    {
     "data": {
      "image/png": "[encoded data removed]",
      "text/plain": [
       "<Figure size 640x480 with 1 Axes>"
      ]
     },
     "metadata": {},
     "output_type": "display_data"
    }
   ],
   "source": [
    "sns.heatmap(df.isnull(),yticklabels=False,cbar=False,cmap='viridis')"
   ]
  },
  {
   "cell_type": "code",
   "execution_count": 9,
   "id": "646f3699",
   "metadata": {},
   "outputs": [
    {
     "data": {
      "text/plain": [
       "<Axes: xlabel='Survived', ylabel='count'>"
      ]
     },
     "execution_count": 9,
     "metadata": {},
     "output_type": "execute_result"
    },
    {
     "data": {
      "image/png": "[encoded data removed]",
      "text/plain": [
       "<Figure size 640x480 with 1 Axes>"
      ]
     },
     "metadata": {},
     "output_type": "display_data"
    }
   ],
   "source": [
    "sns.set_style('whitegrid')\n",
    "sns.countplot(x='Survived',data=df)"
   ]
  },
  {
   "cell_type": "code",
   "execution_count": 10,
   "id": "3f38646a",
   "metadata": {},
   "outputs": [
    {
     "data": {
      "text/plain": [
       "<Axes: xlabel='Survived', ylabel='count'>"
      ]
     },
     "execution_count": 10,
     "metadata": {},
     "output_type": "execute_result"
    },
    {
     "data": {
      "image/png": "[encoded data removed]",
      "text/plain": [
       "<Figure size 640x480 with 1 Axes>"
      ]
     },
     "metadata": {},
     "output_type": "display_data"
    }
   ],
   "source": [
    "sns.set_style('whitegrid')\n",
    "sns.countplot(x='Survived',hue='Pclass',data=df)"
   ]
  },
  {
   "cell_type": "code",
   "execution_count": 11,
   "id": "8eafbbdf",
   "metadata": {},
   "outputs": [
    {
     "data": {
      "text/plain": [
       "<Axes: >"
      ]
     },
     "execution_count": 11,
     "metadata": {},
     "output_type": "execute_result"
    },
    {
     "data": {
      "image/png": "[encoded data removed]",
      "text/plain": [
       "<Figure size 640x480 with 2 Axes>"
      ]
     },
     "metadata": {},
     "output_type": "display_data"
    }
   ],
   "source": [
    "sns.heatmap(df.corr())"
   ]
  },
  {
   "cell_type": "code",
   "execution_count": 12,
   "id": "85d5cdab",
   "metadata": {},
   "outputs": [
    {
     "name": "stderr",
     "output_type": "stream",
     "text": [
      "C:\\Users\\yukte\\anaconda3\\Lib\\site-packages\\seaborn\\axisgrid.py:118: UserWarning: The figure layout has changed to tight\n",
      "  self._figure.tight_layout(*args, **kwargs)\n"
     ]
    },
    {
     "data": {
      "text/plain": [
       "<seaborn.axisgrid.FacetGrid at 0x25497d7bdd0>"
      ]
     },
     "execution_count": 12,
     "metadata": {},
     "output_type": "execute_result"
    },
    {
     "data": {
      "image/png": "[encoded data removed]",
      "text/plain": [
       "<Figure size 500x500 with 1 Axes>"
      ]
     },
     "metadata": {},
     "output_type": "display_data"
    }
   ],
   "source": [
    "sns.displot(data=df['Age'].dropna(),kde=False,color='darkblue',bins=40)"
   ]
  },
  {
   "cell_type": "code",
   "execution_count": 13,
   "id": "341f2507",
   "metadata": {},
   "outputs": [
    {
     "data": {
      "text/plain": [
       "<Axes: >"
      ]
     },
     "execution_count": 13,
     "metadata": {},
     "output_type": "execute_result"
    },
    {
     "data": {
      "image/png": "[encoded data removed]",
      "text/plain": [
       "<Figure size 640x480 with 1 Axes>"
      ]
     },
     "metadata": {},
     "output_type": "display_data"
    }
   ],
   "source": [
    "df['Age'].hist(bins=30,color='darkred',alpha=0.3)"
   ]
  },
  {
   "cell_type": "code",
   "execution_count": 14,
   "id": "856f26d3",
   "metadata": {},
   "outputs": [
    {
     "data": {
      "text/plain": [
       "<Axes: xlabel='SibSp', ylabel='count'>"
      ]
     },
     "execution_count": 14,
     "metadata": {},
     "output_type": "execute_result"
    },
    {
     "data": {
      "image/png": "[encoded data removed]",
      "text/plain": [
       "<Figure size 640x480 with 1 Axes>"
      ]
     },
     "metadata": {},
     "output_type": "display_data"
    }
   ],
   "source": [
    "sns.countplot(x='SibSp',data=df)"
   ]
  },
  {
   "cell_type": "markdown",
   "id": "28eb2d8d",
   "metadata": {},
   "source": [
    "## Data Cleaning\n",
    "We want to fill in missing age data instead of just dropping the missing age data rows. One way to do this is by filling in the mean age of all the passengers (imputation). However we can be smarter about this and check the average age by passenger class. For example:"
   ]
  },
  {
   "cell_type": "code",
   "execution_count": 15,
   "id": "131d542c",
   "metadata": {},
   "outputs": [
    {
     "data": {
      "text/plain": [
       "<Axes: xlabel='Pclass', ylabel='Age'>"
      ]
     },
     "execution_count": 15,
     "metadata": {},
     "output_type": "execute_result"
    },
    {
     "data": {
      "image/png": "[encoded data removed]",
      "text/plain": [
       "<Figure size 1200x700 with 1 Axes>"
      ]
     },
     "metadata": {},
     "output_type": "display_data"
    }
   ],
   "source": [
    "plt.figure(figsize=(12,7))\n",
    "sns.boxplot(x='Pclass',y='Age',data=df,palette='rainbow')"
   ]
  },
  {
   "cell_type": "markdown",
   "id": "cc2caea3",
   "metadata": {},
   "source": [
    "# To fill NaN values with the mean for the Age column in a DataFrame"
   ]
  },
  {
   "cell_type": "code",
   "execution_count": 16,
   "id": "249b1adc",
   "metadata": {},
   "outputs": [
    {
     "data": {
      "text/plain": [
       "Survived    0\n",
       "Pclass      0\n",
       "Age         0\n",
       "SibSp       0\n",
       "Parch       0\n",
       "dtype: int64"
      ]
     },
     "execution_count": 16,
     "metadata": {},
     "output_type": "execute_result"
    }
   ],
   "source": [
    "age_median=df['Age'].median()\n",
    "df['Age']=df['Age'].fillna(math.floor(age_median))\n",
    "df.isna().sum()"
   ]
  },
  {
   "cell_type": "code",
   "execution_count": 17,
   "id": "84cce15e",
   "metadata": {},
   "outputs": [
    {
     "data": {
      "text/plain": [
       "0      22.0\n",
       "1      38.0\n",
       "2      26.0\n",
       "3      35.0\n",
       "4      35.0\n",
       "       ... \n",
       "886    27.0\n",
       "887    19.0\n",
       "888    28.0\n",
       "889    26.0\n",
       "890    32.0\n",
       "Name: Age, Length: 891, dtype: float64"
      ]
     },
     "execution_count": 17,
     "metadata": {},
     "output_type": "execute_result"
    }
   ],
   "source": [
    "df['Age']"
   ]
  },
  {
   "cell_type": "code",
   "execution_count": 18,
   "id": "b371183b",
   "metadata": {},
   "outputs": [
    {
     "data": {
      "text/plain": [
       "<Axes: >"
      ]
     },
     "execution_count": 18,
     "metadata": {},
     "output_type": "execute_result"
    },
    {
     "data": {
      "image/png": "[encoded data removed]",
      "text/plain": [
       "<Figure size 640x480 with 1 Axes>"
      ]
     },
     "metadata": {},
     "output_type": "display_data"
    }
   ],
   "source": [
    "sns.heatmap(df.isnull(),yticklabels=False,cbar=False,cmap='viridis') # to check if there is any null value"
   ]
  },
  {
   "cell_type": "code",
   "execution_count": 19,
   "id": "ad3946ac",
   "metadata": {},
   "outputs": [
    {
     "data": {
      "text/html": [
       "<div>\n",
       "<style scoped>\n",
       "    .dataframe tbody tr th:only-of-type {\n",
       "        vertical-align: middle;\n",
       "    }\n",
       "\n",
       "    .dataframe tbody tr th {\n",
       "        vertical-align: top;\n",
       "    }\n",
       "\n",
       "    .dataframe thead th {\n",
       "        text-align: right;\n",
       "    }\n",
       "</style>\n",
       "<table border=\"1\" class=\"dataframe\">\n",
       "  <thead>\n",
       "    <tr style=\"text-align: right;\">\n",
       "      <th></th>\n",
       "      <th>Survived</th>\n",
       "      <th>Pclass</th>\n",
       "      <th>Age</th>\n",
       "      <th>SibSp</th>\n",
       "      <th>Parch</th>\n",
       "    </tr>\n",
       "  </thead>\n",
       "  <tbody>\n",
       "    <tr>\n",
       "      <th>0</th>\n",
       "      <td>0</td>\n",
       "      <td>3</td>\n",
       "      <td>22.0</td>\n",
       "      <td>1</td>\n",
       "      <td>0</td>\n",
       "    </tr>\n",
       "    <tr>\n",
       "      <th>1</th>\n",
       "      <td>1</td>\n",
       "      <td>1</td>\n",
       "      <td>38.0</td>\n",
       "      <td>1</td>\n",
       "      <td>0</td>\n",
       "    </tr>\n",
       "    <tr>\n",
       "      <th>2</th>\n",
       "      <td>1</td>\n",
       "      <td>3</td>\n",
       "      <td>26.0</td>\n",
       "      <td>0</td>\n",
       "      <td>0</td>\n",
       "    </tr>\n",
       "    <tr>\n",
       "      <th>3</th>\n",
       "      <td>1</td>\n",
       "      <td>1</td>\n",
       "      <td>35.0</td>\n",
       "      <td>1</td>\n",
       "      <td>0</td>\n",
       "    </tr>\n",
       "    <tr>\n",
       "      <th>4</th>\n",
       "      <td>0</td>\n",
       "      <td>3</td>\n",
       "      <td>35.0</td>\n",
       "      <td>0</td>\n",
       "      <td>0</td>\n",
       "    </tr>\n",
       "    <tr>\n",
       "      <th>...</th>\n",
       "      <td>...</td>\n",
       "      <td>...</td>\n",
       "      <td>...</td>\n",
       "      <td>...</td>\n",
       "      <td>...</td>\n",
       "    </tr>\n",
       "    <tr>\n",
       "      <th>886</th>\n",
       "      <td>0</td>\n",
       "      <td>2</td>\n",
       "      <td>27.0</td>\n",
       "      <td>0</td>\n",
       "      <td>0</td>\n",
       "    </tr>\n",
       "    <tr>\n",
       "      <th>887</th>\n",
       "      <td>1</td>\n",
       "      <td>1</td>\n",
       "      <td>19.0</td>\n",
       "      <td>0</td>\n",
       "      <td>0</td>\n",
       "    </tr>\n",
       "    <tr>\n",
       "      <th>888</th>\n",
       "      <td>0</td>\n",
       "      <td>3</td>\n",
       "      <td>28.0</td>\n",
       "      <td>1</td>\n",
       "      <td>2</td>\n",
       "    </tr>\n",
       "    <tr>\n",
       "      <th>889</th>\n",
       "      <td>1</td>\n",
       "      <td>1</td>\n",
       "      <td>26.0</td>\n",
       "      <td>0</td>\n",
       "      <td>0</td>\n",
       "    </tr>\n",
       "    <tr>\n",
       "      <th>890</th>\n",
       "      <td>0</td>\n",
       "      <td>3</td>\n",
       "      <td>32.0</td>\n",
       "      <td>0</td>\n",
       "      <td>0</td>\n",
       "    </tr>\n",
       "  </tbody>\n",
       "</table>\n",
       "<p>891 rows × 5 columns</p>\n",
       "</div>"
      ],
      "text/plain": [
       "     Survived  Pclass   Age  SibSp  Parch\n",
       "0           0       3  22.0      1      0\n",
       "1           1       1  38.0      1      0\n",
       "2           1       3  26.0      0      0\n",
       "3           1       1  35.0      1      0\n",
       "4           0       3  35.0      0      0\n",
       "..        ...     ...   ...    ...    ...\n",
       "886         0       2  27.0      0      0\n",
       "887         1       1  19.0      0      0\n",
       "888         0       3  28.0      1      2\n",
       "889         1       1  26.0      0      0\n",
       "890         0       3  32.0      0      0\n",
       "\n",
       "[891 rows x 5 columns]"
      ]
     },
     "execution_count": 19,
     "metadata": {},
     "output_type": "execute_result"
    }
   ],
   "source": [
    "df"
   ]
  },
  {
   "cell_type": "code",
   "execution_count": 20,
   "id": "f7386ce8",
   "metadata": {},
   "outputs": [
    {
     "name": "stdout",
     "output_type": "stream",
     "text": [
      "<class 'pandas.core.frame.DataFrame'>\n",
      "RangeIndex: 891 entries, 0 to 890\n",
      "Data columns (total 5 columns):\n",
      " #   Column    Non-Null Count  Dtype  \n",
      "---  ------    --------------  -----  \n",
      " 0   Survived  891 non-null    int64  \n",
      " 1   Pclass    891 non-null    int64  \n",
      " 2   Age       891 non-null    float64\n",
      " 3   SibSp     891 non-null    int64  \n",
      " 4   Parch     891 non-null    int64  \n",
      "dtypes: float64(1), int64(4)\n",
      "memory usage: 34.9 KB\n"
     ]
    }
   ],
   "source": [
    "df.info()"
   ]
  },
  {
   "cell_type": "code",
   "execution_count": 21,
   "id": "6294b407",
   "metadata": {},
   "outputs": [],
   "source": [
    "df=df.astype('float64')"
   ]
  },
  {
   "cell_type": "code",
   "execution_count": 22,
   "id": "3cbc0e04",
   "metadata": {},
   "outputs": [
    {
     "name": "stdout",
     "output_type": "stream",
     "text": [
      "<class 'pandas.core.frame.DataFrame'>\n",
      "RangeIndex: 891 entries, 0 to 890\n",
      "Data columns (total 5 columns):\n",
      " #   Column    Non-Null Count  Dtype  \n",
      "---  ------    --------------  -----  \n",
      " 0   Survived  891 non-null    float64\n",
      " 1   Pclass    891 non-null    float64\n",
      " 2   Age       891 non-null    float64\n",
      " 3   SibSp     891 non-null    float64\n",
      " 4   Parch     891 non-null    float64\n",
      "dtypes: float64(5)\n",
      "memory usage: 34.9 KB\n"
     ]
    }
   ],
   "source": [
    "df.info()"
   ]
  },
  {
   "cell_type": "code",
   "execution_count": 23,
   "id": "76a2c44b",
   "metadata": {},
   "outputs": [
    {
     "data": {
      "text/html": [
       "<div>\n",
       "<style scoped>\n",
       "    .dataframe tbody tr th:only-of-type {\n",
       "        vertical-align: middle;\n",
       "    }\n",
       "\n",
       "    .dataframe tbody tr th {\n",
       "        vertical-align: top;\n",
       "    }\n",
       "\n",
       "    .dataframe thead th {\n",
       "        text-align: right;\n",
       "    }\n",
       "</style>\n",
       "<table border=\"1\" class=\"dataframe\">\n",
       "  <thead>\n",
       "    <tr style=\"text-align: right;\">\n",
       "      <th></th>\n",
       "      <th>Survived</th>\n",
       "      <th>Pclass</th>\n",
       "      <th>Age</th>\n",
       "      <th>SibSp</th>\n",
       "      <th>Parch</th>\n",
       "    </tr>\n",
       "  </thead>\n",
       "  <tbody>\n",
       "    <tr>\n",
       "      <th>0</th>\n",
       "      <td>0.0</td>\n",
       "      <td>3.0</td>\n",
       "      <td>22.0</td>\n",
       "      <td>1.0</td>\n",
       "      <td>0.0</td>\n",
       "    </tr>\n",
       "    <tr>\n",
       "      <th>1</th>\n",
       "      <td>1.0</td>\n",
       "      <td>1.0</td>\n",
       "      <td>38.0</td>\n",
       "      <td>1.0</td>\n",
       "      <td>0.0</td>\n",
       "    </tr>\n",
       "    <tr>\n",
       "      <th>2</th>\n",
       "      <td>1.0</td>\n",
       "      <td>3.0</td>\n",
       "      <td>26.0</td>\n",
       "      <td>0.0</td>\n",
       "      <td>0.0</td>\n",
       "    </tr>\n",
       "    <tr>\n",
       "      <th>3</th>\n",
       "      <td>1.0</td>\n",
       "      <td>1.0</td>\n",
       "      <td>35.0</td>\n",
       "      <td>1.0</td>\n",
       "      <td>0.0</td>\n",
       "    </tr>\n",
       "    <tr>\n",
       "      <th>4</th>\n",
       "      <td>0.0</td>\n",
       "      <td>3.0</td>\n",
       "      <td>35.0</td>\n",
       "      <td>0.0</td>\n",
       "      <td>0.0</td>\n",
       "    </tr>\n",
       "    <tr>\n",
       "      <th>...</th>\n",
       "      <td>...</td>\n",
       "      <td>...</td>\n",
       "      <td>...</td>\n",
       "      <td>...</td>\n",
       "      <td>...</td>\n",
       "    </tr>\n",
       "    <tr>\n",
       "      <th>886</th>\n",
       "      <td>0.0</td>\n",
       "      <td>2.0</td>\n",
       "      <td>27.0</td>\n",
       "      <td>0.0</td>\n",
       "      <td>0.0</td>\n",
       "    </tr>\n",
       "    <tr>\n",
       "      <th>887</th>\n",
       "      <td>1.0</td>\n",
       "      <td>1.0</td>\n",
       "      <td>19.0</td>\n",
       "      <td>0.0</td>\n",
       "      <td>0.0</td>\n",
       "    </tr>\n",
       "    <tr>\n",
       "      <th>888</th>\n",
       "      <td>0.0</td>\n",
       "      <td>3.0</td>\n",
       "      <td>28.0</td>\n",
       "      <td>1.0</td>\n",
       "      <td>2.0</td>\n",
       "    </tr>\n",
       "    <tr>\n",
       "      <th>889</th>\n",
       "      <td>1.0</td>\n",
       "      <td>1.0</td>\n",
       "      <td>26.0</td>\n",
       "      <td>0.0</td>\n",
       "      <td>0.0</td>\n",
       "    </tr>\n",
       "    <tr>\n",
       "      <th>890</th>\n",
       "      <td>0.0</td>\n",
       "      <td>3.0</td>\n",
       "      <td>32.0</td>\n",
       "      <td>0.0</td>\n",
       "      <td>0.0</td>\n",
       "    </tr>\n",
       "  </tbody>\n",
       "</table>\n",
       "<p>891 rows × 5 columns</p>\n",
       "</div>"
      ],
      "text/plain": [
       "     Survived  Pclass   Age  SibSp  Parch\n",
       "0         0.0     3.0  22.0    1.0    0.0\n",
       "1         1.0     1.0  38.0    1.0    0.0\n",
       "2         1.0     3.0  26.0    0.0    0.0\n",
       "3         1.0     1.0  35.0    1.0    0.0\n",
       "4         0.0     3.0  35.0    0.0    0.0\n",
       "..        ...     ...   ...    ...    ...\n",
       "886       0.0     2.0  27.0    0.0    0.0\n",
       "887       1.0     1.0  19.0    0.0    0.0\n",
       "888       0.0     3.0  28.0    1.0    2.0\n",
       "889       1.0     1.0  26.0    0.0    0.0\n",
       "890       0.0     3.0  32.0    0.0    0.0\n",
       "\n",
       "[891 rows x 5 columns]"
      ]
     },
     "execution_count": 23,
     "metadata": {},
     "output_type": "execute_result"
    }
   ],
   "source": [
    "df"
   ]
  },
  {
   "cell_type": "code",
   "execution_count": 24,
   "id": "9406af71",
   "metadata": {},
   "outputs": [
    {
     "data": {
      "text/html": [
       "<div>\n",
       "<style scoped>\n",
       "    .dataframe tbody tr th:only-of-type {\n",
       "        vertical-align: middle;\n",
       "    }\n",
       "\n",
       "    .dataframe tbody tr th {\n",
       "        vertical-align: top;\n",
       "    }\n",
       "\n",
       "    .dataframe thead th {\n",
       "        text-align: right;\n",
       "    }\n",
       "</style>\n",
       "<table border=\"1\" class=\"dataframe\">\n",
       "  <thead>\n",
       "    <tr style=\"text-align: right;\">\n",
       "      <th></th>\n",
       "      <th>Survived</th>\n",
       "      <th>Pclass</th>\n",
       "      <th>Age</th>\n",
       "      <th>SibSp</th>\n",
       "      <th>Parch</th>\n",
       "    </tr>\n",
       "  </thead>\n",
       "  <tbody>\n",
       "    <tr>\n",
       "      <th>0</th>\n",
       "      <td>0.0</td>\n",
       "      <td>3.0</td>\n",
       "      <td>22.0</td>\n",
       "      <td>1.0</td>\n",
       "      <td>0.0</td>\n",
       "    </tr>\n",
       "    <tr>\n",
       "      <th>1</th>\n",
       "      <td>1.0</td>\n",
       "      <td>1.0</td>\n",
       "      <td>38.0</td>\n",
       "      <td>1.0</td>\n",
       "      <td>0.0</td>\n",
       "    </tr>\n",
       "    <tr>\n",
       "      <th>2</th>\n",
       "      <td>1.0</td>\n",
       "      <td>3.0</td>\n",
       "      <td>26.0</td>\n",
       "      <td>0.0</td>\n",
       "      <td>0.0</td>\n",
       "    </tr>\n",
       "    <tr>\n",
       "      <th>3</th>\n",
       "      <td>1.0</td>\n",
       "      <td>1.0</td>\n",
       "      <td>35.0</td>\n",
       "      <td>1.0</td>\n",
       "      <td>0.0</td>\n",
       "    </tr>\n",
       "    <tr>\n",
       "      <th>4</th>\n",
       "      <td>0.0</td>\n",
       "      <td>3.0</td>\n",
       "      <td>35.0</td>\n",
       "      <td>0.0</td>\n",
       "      <td>0.0</td>\n",
       "    </tr>\n",
       "  </tbody>\n",
       "</table>\n",
       "</div>"
      ],
      "text/plain": [
       "   Survived  Pclass   Age  SibSp  Parch\n",
       "0       0.0     3.0  22.0    1.0    0.0\n",
       "1       1.0     1.0  38.0    1.0    0.0\n",
       "2       1.0     3.0  26.0    0.0    0.0\n",
       "3       1.0     1.0  35.0    1.0    0.0\n",
       "4       0.0     3.0  35.0    0.0    0.0"
      ]
     },
     "execution_count": 24,
     "metadata": {},
     "output_type": "execute_result"
    }
   ],
   "source": [
    "df.head()"
   ]
  },
  {
   "cell_type": "markdown",
   "id": "1296257b",
   "metadata": {},
   "source": [
    "# Distribute the data and categorize training and testing data"
   ]
  },
  {
   "cell_type": "code",
   "execution_count": 25,
   "id": "703a5b2f",
   "metadata": {},
   "outputs": [],
   "source": [
    "X=df.iloc[:,1:].values\n",
    "y=df['Survived'].values"
   ]
  },
  {
   "cell_type": "code",
   "execution_count": 26,
   "id": "d0171a1d",
   "metadata": {},
   "outputs": [
    {
     "data": {
      "text/plain": [
       "array([[ 3., 22.,  1.,  0.],\n",
       "       [ 1., 38.,  1.,  0.],\n",
       "       [ 3., 26.,  0.,  0.],\n",
       "       ...,\n",
       "       [ 3., 28.,  1.,  2.],\n",
       "       [ 1., 26.,  0.,  0.],\n",
       "       [ 3., 32.,  0.,  0.]])"
      ]
     },
     "execution_count": 26,
     "metadata": {},
     "output_type": "execute_result"
    }
   ],
   "source": [
    "X"
   ]
  },
  {
   "cell_type": "code",
   "execution_count": 27,
   "id": "6b0c9355",
   "metadata": {},
   "outputs": [
    {
     "data": {
      "text/plain": [
       "array([0., 1., 1., 1., 0., 0., 0., 0., 1., 1., 1., 1., 0., 0., 0., 1., 0.,\n",
       "       1., 0., 1., 0., 1., 1., 1., 0., 1., 0., 0., 1., 0., 0., 1., 1., 0.,\n",
       "       0., 0., 1., 0., 0., 1., 0., 0., 0., 1., 1., 0., 0., 1., 0., 0., 0.,\n",
       "       0., 1., 1., 0., 1., 1., 0., 1., 0., 0., 1., 0., 0., 0., 1., 1., 0.,\n",
       "       1., 0., 0., 0., 0., 0., 1., 0., 0., 0., 1., 1., 0., 1., 1., 0., 1.,\n",
       "       1., 0., 0., 1., 0., 0., 0., 0., 0., 0., 0., 0., 1., 1., 0., 0., 0.,\n",
       "       0., 0., 0., 0., 1., 1., 0., 1., 0., 0., 0., 0., 0., 0., 0., 0., 0.,\n",
       "       0., 0., 0., 0., 1., 0., 1., 0., 1., 1., 0., 0., 0., 0., 1., 0., 0.,\n",
       "       1., 0., 0., 0., 0., 1., 1., 0., 0., 0., 1., 0., 0., 0., 0., 1., 0.,\n",
       "       0., 0., 0., 1., 0., 0., 0., 0., 1., 0., 0., 0., 1., 1., 0., 0., 0.,\n",
       "       0., 0., 1., 0., 0., 0., 0., 0., 0., 0., 0., 0., 0., 1., 1., 0., 1.,\n",
       "       1., 0., 0., 1., 0., 1., 1., 1., 1., 0., 0., 1., 0., 0., 0., 0., 0.,\n",
       "       1., 0., 0., 1., 1., 1., 0., 1., 0., 0., 0., 1., 1., 0., 1., 0., 1.,\n",
       "       0., 0., 0., 1., 0., 1., 0., 0., 0., 1., 0., 0., 1., 0., 0., 0., 1.,\n",
       "       0., 0., 0., 1., 0., 0., 0., 0., 0., 1., 1., 0., 0., 0., 0., 0., 0.,\n",
       "       1., 1., 1., 1., 1., 0., 1., 0., 0., 0., 0., 0., 1., 1., 1., 0., 1.,\n",
       "       1., 0., 1., 1., 0., 0., 0., 1., 0., 0., 0., 1., 0., 0., 1., 0., 1.,\n",
       "       1., 1., 1., 0., 0., 0., 0., 0., 0., 1., 1., 1., 1., 0., 1., 0., 1.,\n",
       "       1., 1., 0., 1., 1., 1., 0., 0., 0., 1., 1., 0., 1., 1., 0., 0., 1.,\n",
       "       1., 0., 1., 0., 1., 1., 1., 1., 0., 0., 0., 1., 0., 0., 1., 1., 0.,\n",
       "       1., 1., 0., 0., 0., 1., 1., 1., 1., 0., 0., 0., 0., 0., 0., 0., 1.,\n",
       "       0., 1., 1., 0., 0., 0., 0., 0., 0., 1., 1., 1., 1., 1., 0., 0., 0.,\n",
       "       0., 1., 1., 0., 0., 0., 1., 1., 0., 1., 0., 0., 0., 1., 0., 1., 1.,\n",
       "       1., 0., 1., 1., 0., 0., 0., 0., 1., 1., 0., 0., 0., 0., 0., 0., 1.,\n",
       "       0., 0., 0., 0., 1., 0., 1., 0., 1., 1., 0., 0., 0., 0., 0., 0., 0.,\n",
       "       0., 1., 1., 0., 1., 1., 1., 1., 0., 0., 1., 0., 1., 0., 0., 1., 0.,\n",
       "       0., 1., 1., 1., 1., 1., 1., 1., 0., 0., 0., 1., 0., 1., 0., 1., 1.,\n",
       "       0., 1., 0., 0., 0., 0., 0., 0., 0., 0., 1., 0., 0., 1., 1., 0., 0.,\n",
       "       0., 0., 0., 1., 0., 0., 0., 1., 1., 0., 1., 0., 0., 1., 0., 0., 0.,\n",
       "       0., 0., 0., 1., 0., 0., 0., 0., 0., 0., 0., 1., 0., 1., 1., 0., 1.,\n",
       "       1., 0., 1., 1., 0., 0., 1., 0., 1., 0., 1., 0., 0., 1., 0., 0., 1.,\n",
       "       0., 0., 0., 1., 0., 0., 1., 0., 1., 0., 1., 0., 1., 1., 0., 0., 1.,\n",
       "       0., 0., 1., 1., 0., 1., 1., 0., 0., 1., 1., 0., 1., 0., 1., 1., 0.,\n",
       "       0., 0., 0., 0., 0., 0., 0., 0., 1., 1., 1., 1., 1., 0., 0., 1., 1.,\n",
       "       0., 1., 1., 1., 0., 0., 0., 1., 0., 1., 0., 0., 0., 1., 0., 0., 0.,\n",
       "       0., 1., 0., 0., 1., 1., 0., 0., 0., 1., 0., 0., 1., 1., 1., 0., 0.,\n",
       "       1., 0., 0., 1., 0., 0., 1., 0., 0., 1., 1., 0., 0., 0., 0., 1., 0.,\n",
       "       0., 1., 0., 1., 0., 0., 1., 0., 0., 0., 0., 0., 1., 0., 1., 1., 1.,\n",
       "       0., 1., 0., 1., 0., 1., 0., 1., 0., 0., 0., 0., 0., 0., 1., 0., 0.,\n",
       "       0., 1., 0., 0., 0., 0., 1., 1., 0., 0., 1., 0., 0., 0., 1., 0., 1.,\n",
       "       0., 1., 0., 0., 0., 0., 0., 0., 0., 1., 1., 1., 1., 0., 0., 0., 0.,\n",
       "       1., 0., 0., 1., 1., 0., 0., 0., 0., 1., 1., 1., 1., 1., 0., 1., 0.,\n",
       "       0., 0., 1., 1., 0., 0., 1., 0., 0., 0., 1., 0., 1., 1., 0., 0., 1.,\n",
       "       0., 0., 0., 0., 0., 0., 1., 0., 0., 1., 0., 1., 0., 1., 0., 0., 1.,\n",
       "       0., 0., 1., 1., 0., 0., 1., 1., 0., 0., 0., 1., 0., 0., 1., 1., 0.,\n",
       "       1., 0., 0., 0., 0., 0., 0., 0., 0., 1., 0., 0., 1., 0., 1., 1., 1.,\n",
       "       0., 0., 0., 0., 1., 0., 1., 0., 0., 0., 0., 0., 0., 0., 1., 1., 0.,\n",
       "       0., 0., 1., 1., 1., 1., 0., 0., 0., 0., 1., 0., 0., 0., 0., 0., 0.,\n",
       "       0., 0., 0., 0., 1., 1., 0., 1., 0., 0., 0., 1., 1., 1., 1., 1., 0.,\n",
       "       0., 0., 1., 0., 0., 1., 1., 0., 0., 1., 0., 0., 0., 0., 0., 0., 1.,\n",
       "       0., 0., 0., 1., 0., 1., 1., 1., 1., 0., 0., 0., 1., 0., 0., 1., 1.,\n",
       "       0., 0., 1., 0., 1., 0., 0., 1., 1., 0., 0., 0., 1., 1., 0., 0., 0.,\n",
       "       0., 0., 0., 1., 0., 1., 0.])"
      ]
     },
     "execution_count": 27,
     "metadata": {},
     "output_type": "execute_result"
    }
   ],
   "source": [
    "y"
   ]
  },
  {
   "cell_type": "code",
   "execution_count": 28,
   "id": "bd407ed1",
   "metadata": {},
   "outputs": [],
   "source": [
    "X_train,X_test,y_train,y_test=train_test_split(X,y,test_size=0.2,random_state=0)"
   ]
  },
  {
   "cell_type": "code",
   "execution_count": 29,
   "id": "a2e5b77f",
   "metadata": {},
   "outputs": [
    {
     "data": {
      "text/plain": [
       "array([[ 3., 28.,  0.,  2.],\n",
       "       [ 2., 31.,  0.,  0.],\n",
       "       [ 2., 31.,  1.,  1.],\n",
       "       ...,\n",
       "       [ 3., 28.,  0.,  0.],\n",
       "       [ 3., 36.,  1.,  0.],\n",
       "       [ 2., 60.,  1.,  1.]])"
      ]
     },
     "execution_count": 29,
     "metadata": {},
     "output_type": "execute_result"
    }
   ],
   "source": [
    "X_train"
   ]
  },
  {
   "cell_type": "code",
   "execution_count": 30,
   "id": "fd51566f",
   "metadata": {},
   "outputs": [
    {
     "data": {
      "text/plain": [
       "array([[ 3.  , 28.  ,  0.  ,  0.  ],\n",
       "       [ 3.  , 28.  ,  0.  ,  0.  ],\n",
       "       [ 3.  ,  7.  ,  4.  ,  1.  ],\n",
       "       [ 1.  , 28.  ,  1.  ,  0.  ],\n",
       "       [ 3.  , 29.  ,  0.  ,  2.  ],\n",
       "       [ 1.  , 28.  ,  0.  ,  0.  ],\n",
       "       [ 1.  , 40.  ,  0.  ,  0.  ],\n",
       "       [ 1.  , 31.  ,  0.  ,  2.  ],\n",
       "       [ 1.  , 25.  ,  1.  ,  0.  ],\n",
       "       [ 3.  , 28.  ,  0.  ,  0.  ],\n",
       "       [ 3.  , 26.  ,  1.  ,  0.  ],\n",
       "       [ 2.  , 40.  ,  0.  ,  0.  ],\n",
       "       [ 3.  , 28.  ,  0.  ,  0.  ],\n",
       "       [ 2.  ,  7.  ,  0.  ,  2.  ],\n",
       "       [ 1.  , 24.  ,  0.  ,  0.  ],\n",
       "       [ 3.  , 14.  ,  0.  ,  0.  ],\n",
       "       [ 3.  , 23.  ,  0.  ,  0.  ],\n",
       "       [ 2.  , 19.  ,  1.  ,  1.  ],\n",
       "       [ 3.  , 35.  ,  0.  ,  0.  ],\n",
       "       [ 3.  ,  0.42,  0.  ,  1.  ],\n",
       "       [ 2.  , 18.  ,  0.  ,  0.  ],\n",
       "       [ 1.  , 22.  ,  0.  ,  0.  ],\n",
       "       [ 3.  , 28.  ,  0.  ,  0.  ],\n",
       "       [ 1.  , 28.  ,  0.  ,  0.  ],\n",
       "       [ 3.  , 22.  ,  0.  ,  0.  ],\n",
       "       [ 1.  , 40.  ,  1.  ,  1.  ],\n",
       "       [ 3.  , 32.  ,  0.  ,  0.  ],\n",
       "       [ 3.  , 22.  ,  0.  ,  0.  ],\n",
       "       [ 2.  , 25.  ,  0.  ,  1.  ],\n",
       "       [ 3.  ,  2.  ,  3.  ,  2.  ],\n",
       "       [ 3.  , 33.  ,  0.  ,  0.  ],\n",
       "       [ 2.  , 50.  ,  0.  ,  0.  ],\n",
       "       [ 3.  , 28.  ,  0.  ,  0.  ],\n",
       "       [ 1.  , 28.  ,  0.  ,  0.  ],\n",
       "       [ 3.  , 29.  ,  1.  ,  0.  ],\n",
       "       [ 1.  , 32.  ,  0.  ,  0.  ],\n",
       "       [ 3.  , 43.  ,  0.  ,  0.  ],\n",
       "       [ 2.  , 28.  ,  0.  ,  0.  ],\n",
       "       [ 2.  , 25.  ,  0.  ,  0.  ],\n",
       "       [ 2.  , 54.  ,  0.  ,  0.  ],\n",
       "       [ 1.  , 60.  ,  1.  ,  1.  ],\n",
       "       [ 3.  , 25.  ,  0.  ,  0.  ],\n",
       "       [ 3.  , 28.  ,  0.  ,  0.  ],\n",
       "       [ 3.  , 14.  ,  4.  ,  1.  ],\n",
       "       [ 1.  , 35.  ,  1.  ,  0.  ],\n",
       "       [ 3.  , 28.  ,  0.  ,  0.  ],\n",
       "       [ 3.  , 28.  ,  0.  ,  0.  ],\n",
       "       [ 1.  , 18.  ,  2.  ,  2.  ],\n",
       "       [ 2.  , 39.  ,  0.  ,  0.  ],\n",
       "       [ 1.  , 52.  ,  1.  ,  1.  ],\n",
       "       [ 1.  , 28.  ,  0.  ,  0.  ],\n",
       "       [ 1.  , 23.  ,  0.  ,  1.  ],\n",
       "       [ 2.  ,  4.  ,  1.  ,  1.  ],\n",
       "       [ 3.  , 19.  ,  0.  ,  0.  ],\n",
       "       [ 1.  , 28.  ,  0.  ,  0.  ],\n",
       "       [ 2.  , 24.  ,  2.  ,  0.  ],\n",
       "       [ 1.  , 62.  ,  0.  ,  0.  ],\n",
       "       [ 3.  , 11.  ,  4.  ,  2.  ],\n",
       "       [ 3.  , 10.  ,  3.  ,  2.  ],\n",
       "       [ 3.  , 28.  ,  2.  ,  0.  ],\n",
       "       [ 3.  , 22.  ,  0.  ,  0.  ],\n",
       "       [ 3.  , 29.  ,  0.  ,  4.  ],\n",
       "       [ 1.  , 54.  ,  1.  ,  0.  ],\n",
       "       [ 1.  , 28.  ,  0.  ,  0.  ],\n",
       "       [ 3.  , 27.  ,  0.  ,  2.  ],\n",
       "       [ 3.  , 32.  ,  0.  ,  0.  ],\n",
       "       [ 1.  , 49.  ,  0.  ,  0.  ],\n",
       "       [ 2.  , 28.  ,  0.  ,  1.  ],\n",
       "       [ 2.  ,  2.  ,  1.  ,  1.  ],\n",
       "       [ 1.  , 19.  ,  0.  ,  0.  ],\n",
       "       [ 2.  , 24.  ,  1.  ,  0.  ],\n",
       "       [ 1.  , 48.  ,  1.  ,  0.  ],\n",
       "       [ 1.  , 28.  ,  1.  ,  0.  ],\n",
       "       [ 3.  , 28.  ,  0.  ,  0.  ],\n",
       "       [ 3.  , 24.5 ,  0.  ,  0.  ],\n",
       "       [ 2.  , 30.  ,  3.  ,  0.  ],\n",
       "       [ 1.  , 19.  ,  3.  ,  2.  ],\n",
       "       [ 1.  , 40.  ,  0.  ,  0.  ],\n",
       "       [ 3.  , 34.  ,  0.  ,  0.  ],\n",
       "       [ 2.  , 28.  ,  0.  ,  0.  ],\n",
       "       [ 3.  , 28.  ,  1.  ,  0.  ],\n",
       "       [ 3.  ,  9.  ,  1.  ,  1.  ],\n",
       "       [ 2.  , 26.  ,  1.  ,  1.  ],\n",
       "       [ 3.  , 16.  ,  0.  ,  0.  ],\n",
       "       [ 2.  , 46.  ,  0.  ,  0.  ],\n",
       "       [ 1.  , 21.  ,  0.  ,  0.  ],\n",
       "       [ 1.  , 42.  ,  0.  ,  0.  ],\n",
       "       [ 3.  , 63.  ,  0.  ,  0.  ],\n",
       "       [ 2.  , 34.  ,  0.  ,  0.  ],\n",
       "       [ 1.  , 18.  ,  1.  ,  0.  ],\n",
       "       [ 1.  , 28.  ,  0.  ,  0.  ],\n",
       "       [ 3.  , 19.  ,  0.  ,  0.  ],\n",
       "       [ 2.  ,  3.  ,  1.  ,  1.  ],\n",
       "       [ 1.  , 44.  ,  0.  ,  1.  ],\n",
       "       [ 3.  ,  9.  ,  3.  ,  2.  ],\n",
       "       [ 3.  , 28.  ,  0.  ,  0.  ],\n",
       "       [ 2.  , 24.  ,  0.  ,  2.  ],\n",
       "       [ 3.  , 16.  ,  4.  ,  1.  ],\n",
       "       [ 1.  , 60.  ,  0.  ,  0.  ],\n",
       "       [ 1.  , 27.  ,  0.  ,  0.  ],\n",
       "       [ 3.  , 14.  ,  5.  ,  2.  ],\n",
       "       [ 2.  , 54.  ,  1.  ,  0.  ],\n",
       "       [ 3.  , 19.  ,  0.  ,  0.  ],\n",
       "       [ 3.  , 18.  ,  1.  ,  1.  ],\n",
       "       [ 3.  , 29.  ,  1.  ,  1.  ],\n",
       "       [ 3.  , 35.  ,  1.  ,  1.  ],\n",
       "       [ 2.  , 28.  ,  0.  ,  0.  ],\n",
       "       [ 3.  , 41.  ,  0.  ,  5.  ],\n",
       "       [ 2.  , 25.  ,  1.  ,  0.  ],\n",
       "       [ 3.  , 28.  ,  1.  ,  0.  ],\n",
       "       [ 3.  , 48.  ,  0.  ,  0.  ],\n",
       "       [ 1.  , 22.  ,  0.  ,  1.  ],\n",
       "       [ 3.  , 32.  ,  0.  ,  0.  ],\n",
       "       [ 3.  , 28.  ,  0.  ,  0.  ],\n",
       "       [ 1.  , 36.  ,  1.  ,  2.  ],\n",
       "       [ 2.  , 28.  ,  0.  ,  0.  ],\n",
       "       [ 3.  , 24.  ,  1.  ,  0.  ],\n",
       "       [ 1.  , 18.  ,  1.  ,  0.  ],\n",
       "       [ 3.  , 40.  ,  0.  ,  0.  ],\n",
       "       [ 2.  , 45.  ,  1.  ,  1.  ],\n",
       "       [ 3.  , 28.  ,  0.  ,  0.  ],\n",
       "       [ 3.  , 28.  ,  0.  ,  0.  ],\n",
       "       [ 3.  , 20.  ,  0.  ,  0.  ],\n",
       "       [ 1.  , 38.  ,  0.  ,  0.  ],\n",
       "       [ 3.  , 33.  ,  0.  ,  0.  ],\n",
       "       [ 1.  , 58.  ,  0.  ,  0.  ],\n",
       "       [ 3.  , 28.  ,  0.  ,  0.  ],\n",
       "       [ 3.  , 25.  ,  1.  ,  0.  ],\n",
       "       [ 2.  , 28.  ,  0.  ,  0.  ],\n",
       "       [ 2.  , 51.  ,  0.  ,  0.  ],\n",
       "       [ 3.  , 21.  ,  0.  ,  0.  ],\n",
       "       [ 3.  , 21.  ,  0.  ,  0.  ],\n",
       "       [ 3.  , 25.  ,  0.  ,  0.  ],\n",
       "       [ 3.  , 20.  ,  1.  ,  0.  ],\n",
       "       [ 1.  , 64.  ,  0.  ,  0.  ],\n",
       "       [ 3.  , 21.  ,  0.  ,  0.  ],\n",
       "       [ 3.  , 28.  ,  1.  ,  0.  ],\n",
       "       [ 3.  , 40.  ,  1.  ,  0.  ],\n",
       "       [ 2.  , 44.  ,  1.  ,  0.  ],\n",
       "       [ 2.  , 23.  ,  0.  ,  0.  ],\n",
       "       [ 2.  , 28.  ,  0.  ,  0.  ],\n",
       "       [ 1.  , 33.  ,  1.  ,  0.  ],\n",
       "       [ 3.  , 28.  ,  0.  ,  0.  ],\n",
       "       [ 3.  , 18.  ,  0.  ,  0.  ],\n",
       "       [ 2.  , 28.  ,  0.  ,  0.  ],\n",
       "       [ 3.  , 24.  ,  0.  ,  0.  ],\n",
       "       [ 2.  , 30.  ,  0.  ,  0.  ],\n",
       "       [ 2.  , 42.  ,  1.  ,  0.  ],\n",
       "       [ 1.  , 50.  ,  0.  ,  1.  ],\n",
       "       [ 3.  , 28.  ,  0.  ,  0.  ],\n",
       "       [ 1.  , 45.  ,  1.  ,  0.  ],\n",
       "       [ 3.  , 30.  ,  0.  ,  0.  ],\n",
       "       [ 3.  , 37.  ,  0.  ,  0.  ],\n",
       "       [ 3.  , 29.  ,  0.  ,  0.  ],\n",
       "       [ 2.  , 17.  ,  0.  ,  0.  ],\n",
       "       [ 2.  , 26.  ,  0.  ,  0.  ],\n",
       "       [ 3.  , 45.  ,  0.  ,  1.  ],\n",
       "       [ 2.  , 62.  ,  0.  ,  0.  ],\n",
       "       [ 3.  , 28.  ,  0.  ,  0.  ],\n",
       "       [ 3.  ,  0.75,  2.  ,  1.  ],\n",
       "       [ 3.  , 28.  ,  0.  ,  0.  ],\n",
       "       [ 3.  , 20.  ,  0.  ,  0.  ],\n",
       "       [ 1.  , 54.  ,  1.  ,  0.  ],\n",
       "       [ 3.  , 33.  ,  3.  ,  0.  ],\n",
       "       [ 3.  , 15.  ,  1.  ,  1.  ],\n",
       "       [ 3.  , 25.  ,  0.  ,  0.  ],\n",
       "       [ 3.  , 51.  ,  0.  ,  0.  ],\n",
       "       [ 3.  , 22.  ,  0.  ,  0.  ],\n",
       "       [ 3.  , 24.  ,  0.  ,  0.  ],\n",
       "       [ 3.  , 17.  ,  0.  ,  0.  ],\n",
       "       [ 3.  , 51.  ,  0.  ,  0.  ],\n",
       "       [ 1.  , 38.  ,  1.  ,  0.  ],\n",
       "       [ 3.  , 28.  ,  0.  ,  0.  ],\n",
       "       [ 3.  , 28.  ,  0.  ,  0.  ],\n",
       "       [ 3.  , 13.  ,  0.  ,  0.  ],\n",
       "       [ 3.  , 28.  ,  0.  ,  0.  ],\n",
       "       [ 1.  , 31.  ,  1.  ,  0.  ],\n",
       "       [ 3.  , 23.  ,  0.  ,  0.  ],\n",
       "       [ 3.  , 19.  ,  0.  ,  0.  ]])"
      ]
     },
     "execution_count": 30,
     "metadata": {},
     "output_type": "execute_result"
    }
   ],
   "source": [
    "X_test"
   ]
  },
  {
   "cell_type": "code",
   "execution_count": 31,
   "id": "4f02d520",
   "metadata": {},
   "outputs": [],
   "source": [
    "scaler=StandardScaler()\n",
    "X_train=scaler.fit_transform(X_train)\n",
    "X_test=scaler.transform(X_test)"
   ]
  },
  {
   "cell_type": "code",
   "execution_count": 32,
   "id": "e9c9479c",
   "metadata": {},
   "outputs": [
    {
     "name": "stdout",
     "output_type": "stream",
     "text": [
      "[[ 0.81925059 -0.10684835 -0.46445234  1.95926403]\n",
      " [-0.38096838  0.12218133 -0.46445234 -0.47741019]\n",
      " [-0.38096838  0.12218133  0.41270964  0.74092692]\n",
      " ...\n",
      " [ 0.81925059 -0.10684835 -0.46445234 -0.47741019]\n",
      " [ 0.81925059  0.50389745  0.41270964 -0.47741019]\n",
      " [-0.38096838  2.33613483  0.41270964  0.74092692]] [[ 0.81925059 -0.10684835 -0.46445234 -0.47741019]\n",
      " [ 0.81925059 -0.10684835 -0.46445234 -0.47741019]\n",
      " [ 0.81925059 -1.71005606  3.04419557  0.74092692]\n",
      " [-1.58118735 -0.10684835  0.41270964 -0.47741019]\n",
      " [ 0.81925059 -0.03050512 -0.46445234  1.95926403]\n",
      " [-1.58118735 -0.10684835 -0.46445234 -0.47741019]\n",
      " [-1.58118735  0.80927034 -0.46445234 -0.47741019]\n",
      " [-1.58118735  0.12218133 -0.46445234  1.95926403]\n",
      " [-1.58118735 -0.33587802  0.41270964 -0.47741019]\n",
      " [ 0.81925059 -0.10684835 -0.46445234 -0.47741019]\n",
      " [ 0.81925059 -0.2595348   0.41270964 -0.47741019]\n",
      " [-0.38096838  0.80927034 -0.46445234 -0.47741019]\n",
      " [ 0.81925059 -0.10684835 -0.46445234 -0.47741019]\n",
      " [-0.38096838 -1.71005606 -0.46445234  1.95926403]\n",
      " [-1.58118735 -0.41222124 -0.46445234 -0.47741019]\n",
      " [ 0.81925059 -1.17565349 -0.46445234 -0.47741019]\n",
      " [ 0.81925059 -0.48856447 -0.46445234 -0.47741019]\n",
      " [-0.38096838 -0.79393737  0.41270964  0.74092692]\n",
      " [ 0.81925059  0.42755422 -0.46445234 -0.47741019]\n",
      " [ 0.81925059 -2.21239447 -0.46445234  0.74092692]\n",
      " [-0.38096838 -0.87028059 -0.46445234 -0.47741019]\n",
      " [-1.58118735 -0.56490769 -0.46445234 -0.47741019]\n",
      " [ 0.81925059 -0.10684835 -0.46445234 -0.47741019]\n",
      " [-1.58118735 -0.10684835 -0.46445234 -0.47741019]\n",
      " [ 0.81925059 -0.56490769 -0.46445234 -0.47741019]\n",
      " [-1.58118735  0.80927034  0.41270964  0.74092692]\n",
      " [ 0.81925059  0.19852455 -0.46445234 -0.47741019]\n",
      " [ 0.81925059 -0.56490769 -0.46445234 -0.47741019]\n",
      " [-0.38096838 -0.33587802 -0.46445234  0.74092692]\n",
      " [ 0.81925059 -2.09177218  2.16703359  1.95926403]\n",
      " [ 0.81925059  0.27486777 -0.46445234 -0.47741019]\n",
      " [-0.38096838  1.57270259 -0.46445234 -0.47741019]\n",
      " [ 0.81925059 -0.10684835 -0.46445234 -0.47741019]\n",
      " [-1.58118735 -0.10684835 -0.46445234 -0.47741019]\n",
      " [ 0.81925059 -0.03050512  0.41270964 -0.47741019]\n",
      " [-1.58118735  0.19852455 -0.46445234 -0.47741019]\n",
      " [ 0.81925059  1.03830002 -0.46445234 -0.47741019]\n",
      " [-0.38096838 -0.10684835 -0.46445234 -0.47741019]\n",
      " [-0.38096838 -0.33587802 -0.46445234 -0.47741019]\n",
      " [-0.38096838  1.87807548 -0.46445234 -0.47741019]\n",
      " [-1.58118735  2.33613483  0.41270964  0.74092692]\n",
      " [ 0.81925059 -0.33587802 -0.46445234 -0.47741019]\n",
      " [ 0.81925059 -0.10684835 -0.46445234 -0.47741019]\n",
      " [ 0.81925059 -1.17565349  3.04419557  0.74092692]\n",
      " [-1.58118735  0.42755422  0.41270964 -0.47741019]\n",
      " [ 0.81925059 -0.10684835 -0.46445234 -0.47741019]\n",
      " [ 0.81925059 -0.10684835 -0.46445234 -0.47741019]\n",
      " [-1.58118735 -0.87028059  1.28987161  1.95926403]\n",
      " [-0.38096838  0.73292712 -0.46445234 -0.47741019]\n",
      " [-1.58118735  1.72538904  0.41270964  0.74092692]\n",
      " [-1.58118735 -0.10684835 -0.46445234 -0.47741019]\n",
      " [-1.58118735 -0.48856447 -0.46445234  0.74092692]\n",
      " [-0.38096838 -1.93908573  0.41270964  0.74092692]\n",
      " [ 0.81925059 -0.79393737 -0.46445234 -0.47741019]\n",
      " [-1.58118735 -0.10684835 -0.46445234 -0.47741019]\n",
      " [-0.38096838 -0.41222124  1.28987161 -0.47741019]\n",
      " [-1.58118735  2.48882128 -0.46445234 -0.47741019]\n",
      " [ 0.81925059 -1.40468316  3.04419557  1.95926403]\n",
      " [ 0.81925059 -1.48102638  2.16703359  1.95926403]\n",
      " [ 0.81925059 -0.10684835  1.28987161 -0.47741019]\n",
      " [ 0.81925059 -0.56490769 -0.46445234 -0.47741019]\n",
      " [ 0.81925059 -0.03050512 -0.46445234  4.39593824]\n",
      " [-1.58118735  1.87807548  0.41270964 -0.47741019]\n",
      " [-1.58118735 -0.10684835 -0.46445234 -0.47741019]\n",
      " [ 0.81925059 -0.18319157 -0.46445234  1.95926403]\n",
      " [ 0.81925059  0.19852455 -0.46445234 -0.47741019]\n",
      " [-1.58118735  1.49635936 -0.46445234 -0.47741019]\n",
      " [-0.38096838 -0.10684835 -0.46445234  0.74092692]\n",
      " [-0.38096838 -2.09177218  0.41270964  0.74092692]\n",
      " [-1.58118735 -0.79393737 -0.46445234 -0.47741019]\n",
      " [-0.38096838 -0.41222124  0.41270964 -0.47741019]\n",
      " [-1.58118735  1.42001614  0.41270964 -0.47741019]\n",
      " [-1.58118735 -0.10684835  0.41270964 -0.47741019]\n",
      " [ 0.81925059 -0.10684835 -0.46445234 -0.47741019]\n",
      " [ 0.81925059 -0.37404963 -0.46445234 -0.47741019]\n",
      " [-0.38096838  0.0458381   2.16703359 -0.47741019]\n",
      " [-1.58118735 -0.79393737  2.16703359  1.95926403]\n",
      " [-1.58118735  0.80927034 -0.46445234 -0.47741019]\n",
      " [ 0.81925059  0.351211   -0.46445234 -0.47741019]\n",
      " [-0.38096838 -0.10684835 -0.46445234 -0.47741019]\n",
      " [ 0.81925059 -0.10684835  0.41270964 -0.47741019]\n",
      " [ 0.81925059 -1.55736961  0.41270964  0.74092692]\n",
      " [-0.38096838 -0.2595348   0.41270964  0.74092692]\n",
      " [ 0.81925059 -1.02296704 -0.46445234 -0.47741019]\n",
      " [-0.38096838  1.26732969 -0.46445234 -0.47741019]\n",
      " [-1.58118735 -0.64125092 -0.46445234 -0.47741019]\n",
      " [-1.58118735  0.96195679 -0.46445234 -0.47741019]\n",
      " [ 0.81925059  2.5651645  -0.46445234 -0.47741019]\n",
      " [-0.38096838  0.351211   -0.46445234 -0.47741019]\n",
      " [-1.58118735 -0.87028059  0.41270964 -0.47741019]\n",
      " [-1.58118735 -0.10684835 -0.46445234 -0.47741019]\n",
      " [ 0.81925059 -0.79393737 -0.46445234 -0.47741019]\n",
      " [-0.38096838 -2.01542895  0.41270964  0.74092692]\n",
      " [-1.58118735  1.11464324 -0.46445234  0.74092692]\n",
      " [ 0.81925059 -1.55736961  2.16703359  1.95926403]\n",
      " [ 0.81925059 -0.10684835 -0.46445234 -0.47741019]\n",
      " [-0.38096838 -0.41222124 -0.46445234  1.95926403]\n",
      " [ 0.81925059 -1.02296704  3.04419557  0.74092692]\n",
      " [-1.58118735  2.33613483 -0.46445234 -0.47741019]\n",
      " [-1.58118735 -0.18319157 -0.46445234 -0.47741019]\n",
      " [ 0.81925059 -1.17565349  3.92135754  1.95926403]\n",
      " [-0.38096838  1.87807548  0.41270964 -0.47741019]\n",
      " [ 0.81925059 -0.79393737 -0.46445234 -0.47741019]\n",
      " [ 0.81925059 -0.87028059  0.41270964  0.74092692]\n",
      " [ 0.81925059 -0.03050512  0.41270964  0.74092692]\n",
      " [ 0.81925059  0.42755422  0.41270964  0.74092692]\n",
      " [-0.38096838 -0.10684835 -0.46445234 -0.47741019]\n",
      " [ 0.81925059  0.88561357 -0.46445234  5.61427535]\n",
      " [-0.38096838 -0.33587802  0.41270964 -0.47741019]\n",
      " [ 0.81925059 -0.10684835  0.41270964 -0.47741019]\n",
      " [ 0.81925059  1.42001614 -0.46445234 -0.47741019]\n",
      " [-1.58118735 -0.56490769 -0.46445234  0.74092692]\n",
      " [ 0.81925059  0.19852455 -0.46445234 -0.47741019]\n",
      " [ 0.81925059 -0.10684835 -0.46445234 -0.47741019]\n",
      " [-1.58118735  0.50389745  0.41270964  1.95926403]\n",
      " [-0.38096838 -0.10684835 -0.46445234 -0.47741019]\n",
      " [ 0.81925059 -0.41222124  0.41270964 -0.47741019]\n",
      " [-1.58118735 -0.87028059  0.41270964 -0.47741019]\n",
      " [ 0.81925059  0.80927034 -0.46445234 -0.47741019]\n",
      " [-0.38096838  1.19098647  0.41270964  0.74092692]\n",
      " [ 0.81925059 -0.10684835 -0.46445234 -0.47741019]\n",
      " [ 0.81925059 -0.10684835 -0.46445234 -0.47741019]\n",
      " [ 0.81925059 -0.71759414 -0.46445234 -0.47741019]\n",
      " [-1.58118735  0.6565839  -0.46445234 -0.47741019]\n",
      " [ 0.81925059  0.27486777 -0.46445234 -0.47741019]\n",
      " [-1.58118735  2.18344838 -0.46445234 -0.47741019]\n",
      " [ 0.81925059 -0.10684835 -0.46445234 -0.47741019]\n",
      " [ 0.81925059 -0.33587802  0.41270964 -0.47741019]\n",
      " [-0.38096838 -0.10684835 -0.46445234 -0.47741019]\n",
      " [-0.38096838  1.64904581 -0.46445234 -0.47741019]\n",
      " [ 0.81925059 -0.64125092 -0.46445234 -0.47741019]\n",
      " [ 0.81925059 -0.64125092 -0.46445234 -0.47741019]\n",
      " [ 0.81925059 -0.33587802 -0.46445234 -0.47741019]\n",
      " [ 0.81925059 -0.71759414  0.41270964 -0.47741019]\n",
      " [-1.58118735  2.64150773 -0.46445234 -0.47741019]\n",
      " [ 0.81925059 -0.64125092 -0.46445234 -0.47741019]\n",
      " [ 0.81925059 -0.10684835  0.41270964 -0.47741019]\n",
      " [ 0.81925059  0.80927034  0.41270964 -0.47741019]\n",
      " [-0.38096838  1.11464324  0.41270964 -0.47741019]\n",
      " [-0.38096838 -0.48856447 -0.46445234 -0.47741019]\n",
      " [-0.38096838 -0.10684835 -0.46445234 -0.47741019]\n",
      " [-1.58118735  0.27486777  0.41270964 -0.47741019]\n",
      " [ 0.81925059 -0.10684835 -0.46445234 -0.47741019]\n",
      " [ 0.81925059 -0.87028059 -0.46445234 -0.47741019]\n",
      " [-0.38096838 -0.10684835 -0.46445234 -0.47741019]\n",
      " [ 0.81925059 -0.41222124 -0.46445234 -0.47741019]\n",
      " [-0.38096838  0.0458381  -0.46445234 -0.47741019]\n",
      " [-0.38096838  0.96195679  0.41270964 -0.47741019]\n",
      " [-1.58118735  1.57270259 -0.46445234  0.74092692]\n",
      " [ 0.81925059 -0.10684835 -0.46445234 -0.47741019]\n",
      " [-1.58118735  1.19098647  0.41270964 -0.47741019]\n",
      " [ 0.81925059  0.0458381  -0.46445234 -0.47741019]\n",
      " [ 0.81925059  0.58024067 -0.46445234 -0.47741019]\n",
      " [ 0.81925059 -0.03050512 -0.46445234 -0.47741019]\n",
      " [-0.38096838 -0.94662381 -0.46445234 -0.47741019]\n",
      " [-0.38096838 -0.2595348  -0.46445234 -0.47741019]\n",
      " [ 0.81925059  1.19098647 -0.46445234  0.74092692]\n",
      " [-0.38096838  2.48882128 -0.46445234 -0.47741019]\n",
      " [ 0.81925059 -0.10684835 -0.46445234 -0.47741019]\n",
      " [ 0.81925059 -2.18720121  1.28987161  0.74092692]\n",
      " [ 0.81925059 -0.10684835 -0.46445234 -0.47741019]\n",
      " [ 0.81925059 -0.71759414 -0.46445234 -0.47741019]\n",
      " [-1.58118735  1.87807548  0.41270964 -0.47741019]\n",
      " [ 0.81925059  0.27486777  2.16703359 -0.47741019]\n",
      " [ 0.81925059 -1.09931026  0.41270964  0.74092692]\n",
      " [ 0.81925059 -0.33587802 -0.46445234 -0.47741019]\n",
      " [ 0.81925059  1.64904581 -0.46445234 -0.47741019]\n",
      " [ 0.81925059 -0.56490769 -0.46445234 -0.47741019]\n",
      " [ 0.81925059 -0.41222124 -0.46445234 -0.47741019]\n",
      " [ 0.81925059 -0.94662381 -0.46445234 -0.47741019]\n",
      " [ 0.81925059  1.64904581 -0.46445234 -0.47741019]\n",
      " [-1.58118735  0.6565839   0.41270964 -0.47741019]\n",
      " [ 0.81925059 -0.10684835 -0.46445234 -0.47741019]\n",
      " [ 0.81925059 -0.10684835 -0.46445234 -0.47741019]\n",
      " [ 0.81925059 -1.25199671 -0.46445234 -0.47741019]\n",
      " [ 0.81925059 -0.10684835 -0.46445234 -0.47741019]\n",
      " [-1.58118735  0.12218133  0.41270964 -0.47741019]\n",
      " [ 0.81925059 -0.48856447 -0.46445234 -0.47741019]\n",
      " [ 0.81925059 -0.79393737 -0.46445234 -0.47741019]]\n"
     ]
    }
   ],
   "source": [
    "print(X_train,X_test)"
   ]
  },
  {
   "cell_type": "markdown",
   "id": "9df32742",
   "metadata": {},
   "source": [
    "# Training and Predicting"
   ]
  },
  {
   "cell_type": "code",
   "execution_count": 33,
   "id": "8a7c0ac5",
   "metadata": {},
   "outputs": [],
   "source": [
    "log_reg=LogisticRegression()"
   ]
  },
  {
   "cell_type": "code",
   "execution_count": 34,
   "id": "14da3d1d",
   "metadata": {},
   "outputs": [
    {
     "data": {
      "text/html": [
       "<style>#sk-container-id-1 {color: black;}#sk-container-id-1 pre{padding: 0;}#sk-container-id-1 div.sk-toggleable {background-color: white;}#sk-container-id-1 label.sk-toggleable__label {cursor: pointer;display: block;width: 100%;margin-bottom: 0;padding: 0.3em;box-sizing: border-box;text-align: center;}#sk-container-id-1 label.sk-toggleable__label-arrow:before {content: \"▸\";float: left;margin-right: 0.25em;color: #696969;}#sk-container-id-1 label.sk-toggleable__label-arrow:hover:before {color: black;}#sk-container-id-1 div.sk-estimator:hover label.sk-toggleable__label-arrow:before {color: black;}#sk-container-id-1 div.sk-toggleable__content {max-height: 0;max-width: 0;overflow: hidden;text-align: left;background-color: #f0f8ff;}#sk-container-id-1 div.sk-toggleable__content pre {margin: 0.2em;color: black;border-radius: 0.25em;background-color: #f0f8ff;}#sk-container-id-1 input.sk-toggleable__control:checked~div.sk-toggleable__content {max-height: 200px;max-width: 100%;overflow: auto;}#sk-container-id-1 input.sk-toggleable__control:checked~label.sk-toggleable__label-arrow:before {content: \"▾\";}#sk-container-id-1 div.sk-estimator input.sk-toggleable__control:checked~label.sk-toggleable__label {background-color: #d4ebff;}#sk-container-id-1 div.sk-label input.sk-toggleable__control:checked~label.sk-toggleable__label {background-color: #d4ebff;}#sk-container-id-1 input.sk-hidden--visually {border: 0;clip: rect(1px 1px 1px 1px);clip: rect(1px, 1px, 1px, 1px);height: 1px;margin: -1px;overflow: hidden;padding: 0;position: absolute;width: 1px;}#sk-container-id-1 div.sk-estimator {font-family: monospace;background-color: #f0f8ff;border: 1px dotted black;border-radius: 0.25em;box-sizing: border-box;margin-bottom: 0.5em;}#sk-container-id-1 div.sk-estimator:hover {background-color: #d4ebff;}#sk-container-id-1 div.sk-parallel-item::after {content: \"\";width: 100%;border-bottom: 1px solid gray;flex-grow: 1;}#sk-container-id-1 div.sk-label:hover label.sk-toggleable__label {background-color: #d4ebff;}#sk-container-id-1 div.sk-serial::before {content: \"\";position: absolute;border-left: 1px solid gray;box-sizing: border-box;top: 0;bottom: 0;left: 50%;z-index: 0;}#sk-container-id-1 div.sk-serial {display: flex;flex-direction: column;align-items: center;background-color: white;padding-right: 0.2em;padding-left: 0.2em;position: relative;}#sk-container-id-1 div.sk-item {position: relative;z-index: 1;}#sk-container-id-1 div.sk-parallel {display: flex;align-items: stretch;justify-content: center;background-color: white;position: relative;}#sk-container-id-1 div.sk-item::before, #sk-container-id-1 div.sk-parallel-item::before {content: \"\";position: absolute;border-left: 1px solid gray;box-sizing: border-box;top: 0;bottom: 0;left: 50%;z-index: -1;}#sk-container-id-1 div.sk-parallel-item {display: flex;flex-direction: column;z-index: 1;position: relative;background-color: white;}#sk-container-id-1 div.sk-parallel-item:first-child::after {align-self: flex-end;width: 50%;}#sk-container-id-1 div.sk-parallel-item:last-child::after {align-self: flex-start;width: 50%;}#sk-container-id-1 div.sk-parallel-item:only-child::after {width: 0;}#sk-container-id-1 div.sk-dashed-wrapped {border: 1px dashed gray;margin: 0 0.4em 0.5em 0.4em;box-sizing: border-box;padding-bottom: 0.4em;background-color: white;}#sk-container-id-1 div.sk-label label {font-family: monospace;font-weight: bold;display: inline-block;line-height: 1.2em;}#sk-container-id-1 div.sk-label-container {text-align: center;}#sk-container-id-1 div.sk-container {/* jupyter's `normalize.less` sets `[hidden] { display: none; }` but bootstrap.min.css set `[hidden] { display: none !important; }` so we also need the `!important` here to be able to override the default hidden behavior on the sphinx rendered scikit-learn.org. See: https://github.com/scikit-learn/scikit-learn/issues/21755 */display: inline-block !important;position: relative;}#sk-container-id-1 div.sk-text-repr-fallback {display: none;}</style><div id=\"sk-container-id-1\" class=\"sk-top-container\"><div class=\"sk-text-repr-fallback\"><pre>LogisticRegression()</pre><b>In a Jupyter environment, please rerun this cell to show the HTML representation or trust the notebook. <br />On GitHub, the HTML representation is unable to render, please try loading this page with nbviewer.org.</b></div><div class=\"sk-container\" hidden><div class=\"sk-item\"><div class=\"sk-estimator sk-toggleable\"><input class=\"sk-toggleable__control sk-hidden--visually\" id=\"sk-estimator-id-1\" type=\"checkbox\" checked><label for=\"sk-estimator-id-1\" class=\"sk-toggleable__label sk-toggleable__label-arrow\">LogisticRegression</label><div class=\"sk-toggleable__content\"><pre>LogisticRegression()</pre></div></div></div></div></div>"
      ],
      "text/plain": [
       "LogisticRegression()"
      ]
     },
     "execution_count": 34,
     "metadata": {},
     "output_type": "execute_result"
    }
   ],
   "source": [
    "log_reg.fit(X_train,y_train)"
   ]
  },
  {
   "cell_type": "code",
   "execution_count": 35,
   "id": "4d380eed",
   "metadata": {},
   "outputs": [],
   "source": [
    "y_pred=log_reg.predict(X_test)"
   ]
  },
  {
   "cell_type": "code",
   "execution_count": 36,
   "id": "39fe9364",
   "metadata": {},
   "outputs": [
    {
     "data": {
      "text/plain": [
       "array([0., 0., 0., 1., 0., 1., 1., 1., 1., 0., 0., 0., 0., 1., 1., 0., 0.,\n",
       "       1., 0., 1., 1., 1., 0., 1., 0., 1., 0., 0., 1., 0., 0., 0., 0., 1.,\n",
       "       0., 1., 0., 0., 0., 0., 0., 0., 0., 0., 1., 0., 0., 1., 0., 0., 1.,\n",
       "       1., 1., 0., 1., 0., 0., 0., 0., 0., 0., 0., 0., 1., 0., 0., 1., 1.,\n",
       "       1., 1., 0., 0., 1., 0., 0., 0., 1., 1., 0., 0., 0., 0., 0., 0., 0.,\n",
       "       1., 1., 0., 0., 1., 1., 0., 1., 1., 0., 0., 1., 0., 0., 1., 0., 0.,\n",
       "       0., 0., 0., 0., 0., 0., 0., 0., 0., 1., 0., 0., 1., 0., 0., 1., 0.,\n",
       "       0., 0., 0., 0., 1., 0., 0., 0., 0., 0., 0., 0., 0., 0., 0., 0., 0.,\n",
       "       0., 0., 0., 1., 0., 1., 0., 0., 0., 0., 0., 0., 1., 0., 0., 0., 0.,\n",
       "       0., 1., 0., 0., 0., 0., 0., 0., 0., 0., 0., 0., 0., 0., 0., 0., 0.,\n",
       "       0., 1., 0., 0., 0., 0., 1., 0., 0.])"
      ]
     },
     "execution_count": 36,
     "metadata": {},
     "output_type": "execute_result"
    }
   ],
   "source": [
    "y_pred"
   ]
  },
  {
   "cell_type": "code",
   "execution_count": 37,
   "id": "f8059b85",
   "metadata": {},
   "outputs": [
    {
     "data": {
      "text/plain": [
       "array([0., 0., 0., 1., 1., 1., 1., 1., 1., 1., 0., 1., 0., 1., 1., 0., 0.,\n",
       "       0., 0., 1., 0., 1., 0., 0., 0., 1., 0., 1., 1., 0., 0., 1., 0., 1.,\n",
       "       0., 1., 0., 0., 0., 0., 1., 0., 0., 0., 1., 0., 0., 1., 0., 0., 1.,\n",
       "       1., 1., 0., 1., 0., 0., 0., 0., 1., 0., 0., 1., 0., 1., 0., 1., 0.,\n",
       "       1., 1., 1., 1., 0., 0., 0., 1., 0., 0., 0., 0., 0., 1., 0., 0., 0.,\n",
       "       1., 1., 1., 1., 0., 0., 0., 1., 1., 0., 0., 1., 0., 0., 1., 0., 0.,\n",
       "       0., 0., 0., 1., 1., 0., 0., 1., 0., 1., 1., 0., 1., 1., 1., 1., 0.,\n",
       "       1., 1., 0., 0., 0., 0., 0., 0., 1., 0., 0., 0., 0., 0., 0., 0., 0.,\n",
       "       0., 0., 0., 0., 0., 1., 0., 0., 1., 0., 0., 1., 1., 0., 0., 1., 0.,\n",
       "       0., 1., 0., 0., 1., 0., 1., 0., 1., 1., 1., 0., 0., 0., 0., 0., 0.,\n",
       "       0., 1., 0., 0., 1., 0., 1., 0., 0.])"
      ]
     },
     "execution_count": 37,
     "metadata": {},
     "output_type": "execute_result"
    }
   ],
   "source": [
    "y_test"
   ]
  },
  {
   "cell_type": "code",
   "execution_count": 38,
   "id": "e4cd53f9",
   "metadata": {},
   "outputs": [
    {
     "data": {
      "text/plain": [
       "0.7486033519553073"
      ]
     },
     "execution_count": 38,
     "metadata": {},
     "output_type": "execute_result"
    }
   ],
   "source": [
    "accuracy_score(y_test,y_pred)"
   ]
  },
  {
   "cell_type": "code",
   "execution_count": 39,
   "id": "fc4de55d",
   "metadata": {},
   "outputs": [
    {
     "data": {
      "text/plain": [
       "array([[98, 12],\n",
       "       [33, 36]], dtype=int64)"
      ]
     },
     "execution_count": 39,
     "metadata": {},
     "output_type": "execute_result"
    }
   ],
   "source": [
    "confusion_matrix(y_test,y_pred)"
   ]
  },
  {
   "cell_type": "code",
   "execution_count": 40,
   "id": "1046330f",
   "metadata": {},
   "outputs": [],
   "source": [
    "from sklearn.metrics import classification_report"
   ]
  },
  {
   "cell_type": "code",
   "execution_count": 41,
   "id": "b5ed284f",
   "metadata": {},
   "outputs": [
    {
     "name": "stdout",
     "output_type": "stream",
     "text": [
      "              precision    recall  f1-score   support\n",
      "\n",
      "         0.0       0.75      0.89      0.81       110\n",
      "         1.0       0.75      0.52      0.62        69\n",
      "\n",
      "    accuracy                           0.75       179\n",
      "   macro avg       0.75      0.71      0.71       179\n",
      "weighted avg       0.75      0.75      0.74       179\n",
      "\n"
     ]
    }
   ],
   "source": [
    "print(classification_report(y_test,y_pred))"
   ]
  },
  {
   "cell_type": "code",
   "execution_count": null,
   "id": "b6e5974a",
   "metadata": {},
   "outputs": [],
   "source": []
  }
 ],
 "metadata": {
  "kernelspec": {
   "display_name": "Python 3 (ipykernel)",
   "language": "python",
   "name": "python3"
  },
  "language_info": {
   "codemirror_mode": {
    "name": "ipython",
    "version": 3
   },
   "file_extension": ".py",
   "mimetype": "text/x-python",
   "name": "python",
   "nbconvert_exporter": "python",
   "pygments_lexer": "ipython3",
   "version": "3.11.5"
  }
 },
 "nbformat": 4,
 "nbformat_minor": 5
}
